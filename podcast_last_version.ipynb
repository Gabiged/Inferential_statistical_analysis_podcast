{
 "cells": [
  {
   "cell_type": "markdown",
   "id": "30978593",
   "metadata": {},
   "source": [
    "# Inferential Statistical Analysis of the Podcast "
   ]
  },
  {
   "cell_type": "markdown",
   "id": "e5c94ee9",
   "metadata": {},
   "source": [
    "## Objectives for this Part\n",
    "- Practice working with SQLite datasets.\n",
    "- Practice performing EDA.\n",
    "- Practice applying statistical inference procedures.\n",
    "- Practice visualizing data with Matplotlib & Seaborn.\n",
    "- Practice creating dashboards with Google Data Studio.\n",
    "- Practice reading data, performing queries and filtering data using SQL and Pandas.\n",
    "- The dataset can be dowloaded: https://www.kaggle.com/datasets/thoughtvector/podcastreviews/versions/28"
   ]
  },
  {
   "cell_type": "markdown",
   "id": "73c852ee",
   "metadata": {},
   "source": [
    "The aim of this paper is to provide suggestions on what features would be needed to make the podcast attractive to listeners and attract the largest possible target audience.\n",
    "To achieve this goal, the podcast feedback database will be analysed and recommendations will be made on the basis of its answers. \n",
    "In addition, hypotheses will be put forward:"
   ]
  },
  {
   "cell_type": "markdown",
   "id": "b2a74476",
   "metadata": {},
   "source": [
    "1. Hypothesis: is there any significant difference between podcasts groups ratings: single episodes vs. serial episodes?\n",
    "2. Hypothesis: is there a difference between the length of the best rating feedback and the worst rating?"
   ]
  },
  {
   "cell_type": "markdown",
   "id": "13077cd9",
   "metadata": {},
   "source": [
    "### Used Libraries:"
   ]
  },
  {
   "cell_type": "code",
   "execution_count": 1,
   "id": "79f7793e",
   "metadata": {},
   "outputs": [
    {
     "data": {
      "application/javascript": [
       "\n",
       "            setTimeout(function() {\n",
       "                var nbb_cell_id = 1;\n",
       "                var nbb_unformatted_code = \"%load_ext nb_black\";\n",
       "                var nbb_formatted_code = \"%load_ext nb_black\";\n",
       "                var nbb_cells = Jupyter.notebook.get_cells();\n",
       "                for (var i = 0; i < nbb_cells.length; ++i) {\n",
       "                    if (nbb_cells[i].input_prompt_number == nbb_cell_id) {\n",
       "                        if (nbb_cells[i].get_text() == nbb_unformatted_code) {\n",
       "                             nbb_cells[i].set_text(nbb_formatted_code);\n",
       "                        }\n",
       "                        break;\n",
       "                    }\n",
       "                }\n",
       "            }, 500);\n",
       "            "
      ],
      "text/plain": [
       "<IPython.core.display.Javascript object>"
      ]
     },
     "metadata": {},
     "output_type": "display_data"
    }
   ],
   "source": [
    "%load_ext nb_black"
   ]
  },
  {
   "cell_type": "code",
   "execution_count": 2,
   "id": "ca201f07",
   "metadata": {
    "scrolled": true
   },
   "outputs": [
    {
     "name": "stdout",
     "output_type": "stream",
     "text": [
      "Setup complete\n"
     ]
    },
    {
     "data": {
      "application/javascript": [
       "\n",
       "            setTimeout(function() {\n",
       "                var nbb_cell_id = 2;\n",
       "                var nbb_unformatted_code = \"from collections import defaultdict\\nimport pandas as pd\\nimport sqlite3 as sql\\nimport matplotlib.pyplot as plt\\nimport numpy as np\\nimport re\\nimport seaborn as sns\\nfrom scipy import stats\\n\\nprint(\\\"Setup complete\\\")\";\n",
       "                var nbb_formatted_code = \"from collections import defaultdict\\nimport pandas as pd\\nimport sqlite3 as sql\\nimport matplotlib.pyplot as plt\\nimport numpy as np\\nimport re\\nimport seaborn as sns\\nfrom scipy import stats\\n\\nprint(\\\"Setup complete\\\")\";\n",
       "                var nbb_cells = Jupyter.notebook.get_cells();\n",
       "                for (var i = 0; i < nbb_cells.length; ++i) {\n",
       "                    if (nbb_cells[i].input_prompt_number == nbb_cell_id) {\n",
       "                        if (nbb_cells[i].get_text() == nbb_unformatted_code) {\n",
       "                             nbb_cells[i].set_text(nbb_formatted_code);\n",
       "                        }\n",
       "                        break;\n",
       "                    }\n",
       "                }\n",
       "            }, 500);\n",
       "            "
      ],
      "text/plain": [
       "<IPython.core.display.Javascript object>"
      ]
     },
     "metadata": {},
     "output_type": "display_data"
    }
   ],
   "source": [
    "from collections import defaultdict\n",
    "import pandas as pd\n",
    "import sqlite3 as sql\n",
    "import matplotlib.pyplot as plt\n",
    "import numpy as np\n",
    "import re\n",
    "import seaborn as sns\n",
    "from scipy import stats\n",
    "\n",
    "print(\"Setup complete\")"
   ]
  },
  {
   "cell_type": "markdown",
   "id": "9d68befa",
   "metadata": {},
   "source": [
    "## Data Exploration"
   ]
  },
  {
   "cell_type": "markdown",
   "id": "9b5585fc",
   "metadata": {},
   "source": [
    "* Read sqlite query results into a pandas DataFrame:"
   ]
  },
  {
   "cell_type": "code",
   "execution_count": 3,
   "id": "dc285994",
   "metadata": {},
   "outputs": [
    {
     "data": {
      "application/javascript": [
       "\n",
       "            setTimeout(function() {\n",
       "                var nbb_cell_id = 3;\n",
       "                var nbb_unformatted_code = \"con = sql.connect(\\\"database.sqlite\\\")\";\n",
       "                var nbb_formatted_code = \"con = sql.connect(\\\"database.sqlite\\\")\";\n",
       "                var nbb_cells = Jupyter.notebook.get_cells();\n",
       "                for (var i = 0; i < nbb_cells.length; ++i) {\n",
       "                    if (nbb_cells[i].input_prompt_number == nbb_cell_id) {\n",
       "                        if (nbb_cells[i].get_text() == nbb_unformatted_code) {\n",
       "                             nbb_cells[i].set_text(nbb_formatted_code);\n",
       "                        }\n",
       "                        break;\n",
       "                    }\n",
       "                }\n",
       "            }, 500);\n",
       "            "
      ],
      "text/plain": [
       "<IPython.core.display.Javascript object>"
      ]
     },
     "metadata": {},
     "output_type": "display_data"
    }
   ],
   "source": [
    "con = sql.connect(\"database.sqlite\")"
   ]
  },
  {
   "cell_type": "markdown",
   "id": "5e125aa8",
   "metadata": {},
   "source": [
    "* Extract tables from dataset:<br>\n",
    "For analysis I will need categories, podcasts and reviews tables that are connected via 'podcast_id' column between themselves.\n",
    "From here I will review all tables separately and where needed merge them between for further investigation."
   ]
  },
  {
   "cell_type": "code",
   "execution_count": 4,
   "id": "89febd3d",
   "metadata": {
    "scrolled": false
   },
   "outputs": [
    {
     "data": {
      "text/html": [
       "<div>\n",
       "<style scoped>\n",
       "    .dataframe tbody tr th:only-of-type {\n",
       "        vertical-align: middle;\n",
       "    }\n",
       "\n",
       "    .dataframe tbody tr th {\n",
       "        vertical-align: top;\n",
       "    }\n",
       "\n",
       "    .dataframe thead th {\n",
       "        text-align: right;\n",
       "    }\n",
       "</style>\n",
       "<table border=\"1\" class=\"dataframe\">\n",
       "  <thead>\n",
       "    <tr style=\"text-align: right;\">\n",
       "      <th></th>\n",
       "      <th>table_name</th>\n",
       "      <th>table_scheme</th>\n",
       "    </tr>\n",
       "  </thead>\n",
       "  <tbody>\n",
       "    <tr>\n",
       "      <th>0</th>\n",
       "      <td>categories</td>\n",
       "      <td>CREATE TABLE categories (\\n        podcast_id text not null,\\n        category text not null\\n    )</td>\n",
       "    </tr>\n",
       "    <tr>\n",
       "      <th>1</th>\n",
       "      <td>category_podcast_id_idx</td>\n",
       "      <td>CREATE INDEX category_podcast_id_idx on categories (podcast_id)</td>\n",
       "    </tr>\n",
       "    <tr>\n",
       "      <th>2</th>\n",
       "      <td>podcasts</td>\n",
       "      <td>CREATE TABLE podcasts (\\n        podcast_id text primary key,\\n        itunes_id integer not null,\\n        slug text not null,\\n        itunes_url text not null,\\n        title text not null\\n    )</td>\n",
       "    </tr>\n",
       "    <tr>\n",
       "      <th>3</th>\n",
       "      <td>reviews</td>\n",
       "      <td>CREATE TABLE reviews (\\n        podcast_id text not null,\\n        title text not null,\\n        content text not null,\\n        rating integer not null,\\n        author_id text not null,\\n        created_at text not null\\n    , review_date DATETIME)</td>\n",
       "    </tr>\n",
       "    <tr>\n",
       "      <th>4</th>\n",
       "      <td>runs</td>\n",
       "      <td>CREATE TABLE runs (\\n        run_at text not null,\\n        max_rowid integer not null,\\n        reviews_added integer not null\\n    )</td>\n",
       "    </tr>\n",
       "    <tr>\n",
       "      <th>5</th>\n",
       "      <td>sqlite_autoindex_podcasts_1</td>\n",
       "      <td>None</td>\n",
       "    </tr>\n",
       "  </tbody>\n",
       "</table>\n",
       "</div>"
      ],
      "text/plain": [
       "                    table_name  \\\n",
       "0                   categories   \n",
       "1      category_podcast_id_idx   \n",
       "2                     podcasts   \n",
       "3                      reviews   \n",
       "4                         runs   \n",
       "5  sqlite_autoindex_podcasts_1   \n",
       "\n",
       "                                                                                                                                                                                                                                                 table_scheme  \n",
       "0                                                                                                                                                         CREATE TABLE categories (\\n        podcast_id text not null,\\n        category text not null\\n    )  \n",
       "1                                                                                                                                                                                             CREATE INDEX category_podcast_id_idx on categories (podcast_id)  \n",
       "2                                                      CREATE TABLE podcasts (\\n        podcast_id text primary key,\\n        itunes_id integer not null,\\n        slug text not null,\\n        itunes_url text not null,\\n        title text not null\\n    )  \n",
       "3  CREATE TABLE reviews (\\n        podcast_id text not null,\\n        title text not null,\\n        content text not null,\\n        rating integer not null,\\n        author_id text not null,\\n        created_at text not null\\n    , review_date DATETIME)  \n",
       "4                                                                                                                      CREATE TABLE runs (\\n        run_at text not null,\\n        max_rowid integer not null,\\n        reviews_added integer not null\\n    )  \n",
       "5                                                                                                                                                                                                                                                        None  "
      ]
     },
     "execution_count": 4,
     "metadata": {},
     "output_type": "execute_result"
    },
    {
     "data": {
      "application/javascript": [
       "\n",
       "            setTimeout(function() {\n",
       "                var nbb_cell_id = 4;\n",
       "                var nbb_unformatted_code = \"query = pd.read_sql_query(\\n    \\\"\\\"\\\"SELECT name AS table_name, sql AS table_scheme\\nFROM sqlite_master\\nORDER BY name\\\"\\\"\\\",\\n    con,\\n)\\npd.set_option(\\\"display.max_colwidth\\\", None)\\nquery\";\n",
       "                var nbb_formatted_code = \"query = pd.read_sql_query(\\n    \\\"\\\"\\\"SELECT name AS table_name, sql AS table_scheme\\nFROM sqlite_master\\nORDER BY name\\\"\\\"\\\",\\n    con,\\n)\\npd.set_option(\\\"display.max_colwidth\\\", None)\\nquery\";\n",
       "                var nbb_cells = Jupyter.notebook.get_cells();\n",
       "                for (var i = 0; i < nbb_cells.length; ++i) {\n",
       "                    if (nbb_cells[i].input_prompt_number == nbb_cell_id) {\n",
       "                        if (nbb_cells[i].get_text() == nbb_unformatted_code) {\n",
       "                             nbb_cells[i].set_text(nbb_formatted_code);\n",
       "                        }\n",
       "                        break;\n",
       "                    }\n",
       "                }\n",
       "            }, 500);\n",
       "            "
      ],
      "text/plain": [
       "<IPython.core.display.Javascript object>"
      ]
     },
     "metadata": {},
     "output_type": "display_data"
    }
   ],
   "source": [
    "query = pd.read_sql_query(\n",
    "    \"\"\"SELECT name AS table_name, sql AS table_scheme\n",
    "FROM sqlite_master\n",
    "ORDER BY name\"\"\",\n",
    "    con,\n",
    ")\n",
    "pd.set_option(\"display.max_colwidth\", None)\n",
    "query"
   ]
  },
  {
   "cell_type": "markdown",
   "id": "6aaeb7f1",
   "metadata": {},
   "source": [
    "* Checking if there are any missing vallues in all tables:"
   ]
  },
  {
   "cell_type": "code",
   "execution_count": 5,
   "id": "3788e280",
   "metadata": {},
   "outputs": [
    {
     "data": {
      "text/html": [
       "<div>\n",
       "<style scoped>\n",
       "    .dataframe tbody tr th:only-of-type {\n",
       "        vertical-align: middle;\n",
       "    }\n",
       "\n",
       "    .dataframe tbody tr th {\n",
       "        vertical-align: top;\n",
       "    }\n",
       "\n",
       "    .dataframe thead th {\n",
       "        text-align: right;\n",
       "    }\n",
       "</style>\n",
       "<table border=\"1\" class=\"dataframe\">\n",
       "  <thead>\n",
       "    <tr style=\"text-align: right;\">\n",
       "      <th></th>\n",
       "      <th>category_null_count</th>\n",
       "      <th>question_null_count</th>\n",
       "      <th>answer_null_count</th>\n",
       "    </tr>\n",
       "  </thead>\n",
       "  <tbody>\n",
       "    <tr>\n",
       "      <th>0</th>\n",
       "      <td>0</td>\n",
       "      <td>0</td>\n",
       "      <td>2</td>\n",
       "    </tr>\n",
       "  </tbody>\n",
       "</table>\n",
       "</div>"
      ],
      "text/plain": [
       "   category_null_count  question_null_count  answer_null_count\n",
       "0                    0                    0                  2"
      ]
     },
     "execution_count": 5,
     "metadata": {},
     "output_type": "execute_result"
    },
    {
     "data": {
      "application/javascript": [
       "\n",
       "            setTimeout(function() {\n",
       "                var nbb_cell_id = 5;\n",
       "                var nbb_unformatted_code = \"query = pd.read_sql_query(\\n    \\\"\\\"\\\"\\nSELECT \\n    (SELECT COUNT(*) FROM categories WHERE podcast_id IS NULL OR category IS NULL) AS category_null_count,\\n    (SELECT COUNT(*) FROM podcasts WHERE podcast_id IS NULL OR title IS NULL) AS question_null_count,\\n    (SELECT COUNT(*) FROM reviews WHERE podcast_id IS NULL OR content IS NULL OR rating IS NULL OR author_id IS NULL OR\\n                                       review_date IS NULL) AS answer_null_count\\\"\\\"\\\",\\n    con,\\n)\\nquery\";\n",
       "                var nbb_formatted_code = \"query = pd.read_sql_query(\\n    \\\"\\\"\\\"\\nSELECT \\n    (SELECT COUNT(*) FROM categories WHERE podcast_id IS NULL OR category IS NULL) AS category_null_count,\\n    (SELECT COUNT(*) FROM podcasts WHERE podcast_id IS NULL OR title IS NULL) AS question_null_count,\\n    (SELECT COUNT(*) FROM reviews WHERE podcast_id IS NULL OR content IS NULL OR rating IS NULL OR author_id IS NULL OR\\n                                       review_date IS NULL) AS answer_null_count\\\"\\\"\\\",\\n    con,\\n)\\nquery\";\n",
       "                var nbb_cells = Jupyter.notebook.get_cells();\n",
       "                for (var i = 0; i < nbb_cells.length; ++i) {\n",
       "                    if (nbb_cells[i].input_prompt_number == nbb_cell_id) {\n",
       "                        if (nbb_cells[i].get_text() == nbb_unformatted_code) {\n",
       "                             nbb_cells[i].set_text(nbb_formatted_code);\n",
       "                        }\n",
       "                        break;\n",
       "                    }\n",
       "                }\n",
       "            }, 500);\n",
       "            "
      ],
      "text/plain": [
       "<IPython.core.display.Javascript object>"
      ]
     },
     "metadata": {},
     "output_type": "display_data"
    }
   ],
   "source": [
    "query = pd.read_sql_query(\n",
    "    \"\"\"\n",
    "SELECT \n",
    "    (SELECT COUNT(*) FROM categories WHERE podcast_id IS NULL OR category IS NULL) AS category_null_count,\n",
    "    (SELECT COUNT(*) FROM podcasts WHERE podcast_id IS NULL OR title IS NULL) AS question_null_count,\n",
    "    (SELECT COUNT(*) FROM reviews WHERE podcast_id IS NULL OR content IS NULL OR rating IS NULL OR author_id IS NULL OR\n",
    "                                       review_date IS NULL) AS answer_null_count\"\"\",\n",
    "    con,\n",
    ")\n",
    "query\n"
   ]
  },
  {
   "cell_type": "code",
   "execution_count": 6,
   "id": "6e3ad0fd",
   "metadata": {},
   "outputs": [
    {
     "data": {
      "text/html": [
       "<div>\n",
       "<style scoped>\n",
       "    .dataframe tbody tr th:only-of-type {\n",
       "        vertical-align: middle;\n",
       "    }\n",
       "\n",
       "    .dataframe tbody tr th {\n",
       "        vertical-align: top;\n",
       "    }\n",
       "\n",
       "    .dataframe thead th {\n",
       "        text-align: right;\n",
       "    }\n",
       "</style>\n",
       "<table border=\"1\" class=\"dataframe\">\n",
       "  <thead>\n",
       "    <tr style=\"text-align: right;\">\n",
       "      <th></th>\n",
       "      <th>podcast_id</th>\n",
       "      <th>content</th>\n",
       "      <th>rating</th>\n",
       "      <th>author_id</th>\n",
       "      <th>review_date</th>\n",
       "    </tr>\n",
       "  </thead>\n",
       "  <tbody>\n",
       "    <tr>\n",
       "      <th>0</th>\n",
       "      <td>db93a05fe337aea2061b59c96e647100</td>\n",
       "      <td>Joe is my source for Honest,  Hard Hitting Comedy ,Sports ,&amp; Modern Culture in America</td>\n",
       "      <td>5</td>\n",
       "      <td>3BBAB440E06A8CB</td>\n",
       "      <td>None</td>\n",
       "    </tr>\n",
       "    <tr>\n",
       "      <th>1</th>\n",
       "      <td>db93a05fe337aea2061b59c96e647100</td>\n",
       "      <td>I only listened to 4 podcasts but they were enough to get me hooked. What do I have to do to regain access to the library?</td>\n",
       "      <td>5</td>\n",
       "      <td>3E66B9924F0D870</td>\n",
       "      <td>None</td>\n",
       "    </tr>\n",
       "  </tbody>\n",
       "</table>\n",
       "</div>"
      ],
      "text/plain": [
       "                         podcast_id  \\\n",
       "0  db93a05fe337aea2061b59c96e647100   \n",
       "1  db93a05fe337aea2061b59c96e647100   \n",
       "\n",
       "                                                                                                                      content  \\\n",
       "0                                      Joe is my source for Honest,  Hard Hitting Comedy ,Sports ,& Modern Culture in America   \n",
       "1  I only listened to 4 podcasts but they were enough to get me hooked. What do I have to do to regain access to the library?   \n",
       "\n",
       "   rating        author_id review_date  \n",
       "0       5  3BBAB440E06A8CB        None  \n",
       "1       5  3E66B9924F0D870        None  "
      ]
     },
     "execution_count": 6,
     "metadata": {},
     "output_type": "execute_result"
    },
    {
     "data": {
      "application/javascript": [
       "\n",
       "            setTimeout(function() {\n",
       "                var nbb_cell_id = 6;\n",
       "                var nbb_unformatted_code = \"df_reviews_null = pd.DataFrame(\\n    pd.read_sql_query(\\n        \\\"\\\"\\\"SELECT podcast_id, content, rating, author_id,  review_date FROM reviews WHERE podcast_id IS NULL OR content IS NULL OR rating IS NULL OR author_id IS NULL OR\\n                                       review_date IS NULL\\\"\\\"\\\",\\n        con,\\n    )\\n)\\ndf_reviews_null\";\n",
       "                var nbb_formatted_code = \"df_reviews_null = pd.DataFrame(\\n    pd.read_sql_query(\\n        \\\"\\\"\\\"SELECT podcast_id, content, rating, author_id,  review_date FROM reviews WHERE podcast_id IS NULL OR content IS NULL OR rating IS NULL OR author_id IS NULL OR\\n                                       review_date IS NULL\\\"\\\"\\\",\\n        con,\\n    )\\n)\\ndf_reviews_null\";\n",
       "                var nbb_cells = Jupyter.notebook.get_cells();\n",
       "                for (var i = 0; i < nbb_cells.length; ++i) {\n",
       "                    if (nbb_cells[i].input_prompt_number == nbb_cell_id) {\n",
       "                        if (nbb_cells[i].get_text() == nbb_unformatted_code) {\n",
       "                             nbb_cells[i].set_text(nbb_formatted_code);\n",
       "                        }\n",
       "                        break;\n",
       "                    }\n",
       "                }\n",
       "            }, 500);\n",
       "            "
      ],
      "text/plain": [
       "<IPython.core.display.Javascript object>"
      ]
     },
     "metadata": {},
     "output_type": "display_data"
    }
   ],
   "source": [
    "df_reviews_null = pd.DataFrame(\n",
    "    pd.read_sql_query(\n",
    "        \"\"\"SELECT podcast_id, content, rating, author_id,  review_date FROM reviews WHERE podcast_id IS NULL OR content IS NULL OR rating IS NULL OR author_id IS NULL OR\n",
    "                                       review_date IS NULL\"\"\",\n",
    "        con,\n",
    "    )\n",
    ")\n",
    "df_reviews_null"
   ]
  },
  {
   "cell_type": "markdown",
   "id": "ada3a0bc",
   "metadata": {},
   "source": [
    "* **Summary**:<br>\n",
    "    Overall there are no missing values except table reviews has 2 missing values in 'review_date' column. This quantity is too small for interfering with our data, but the remaining information is usefull for further investigation."
   ]
  },
  {
   "cell_type": "markdown",
   "id": "1d0396e6",
   "metadata": {},
   "source": [
    "* Investigating table \"Podcasts\":"
   ]
  },
  {
   "cell_type": "code",
   "execution_count": 7,
   "id": "ed05fbed",
   "metadata": {
    "scrolled": true
   },
   "outputs": [
    {
     "data": {
      "text/html": [
       "<div>\n",
       "<style scoped>\n",
       "    .dataframe tbody tr th:only-of-type {\n",
       "        vertical-align: middle;\n",
       "    }\n",
       "\n",
       "    .dataframe tbody tr th {\n",
       "        vertical-align: top;\n",
       "    }\n",
       "\n",
       "    .dataframe thead th {\n",
       "        text-align: right;\n",
       "    }\n",
       "</style>\n",
       "<table border=\"1\" class=\"dataframe\">\n",
       "  <thead>\n",
       "    <tr style=\"text-align: right;\">\n",
       "      <th></th>\n",
       "      <th>podcast_id</th>\n",
       "      <th>title</th>\n",
       "    </tr>\n",
       "  </thead>\n",
       "  <tbody>\n",
       "    <tr>\n",
       "      <th>0</th>\n",
       "      <td>a00018b54eb342567c94dacfb2a3e504</td>\n",
       "      <td>Scaling Global</td>\n",
       "    </tr>\n",
       "    <tr>\n",
       "      <th>1</th>\n",
       "      <td>a00043d34e734b09246d17dc5d56f63c</td>\n",
       "      <td>Cornerstone Baptist Church of Orlando</td>\n",
       "    </tr>\n",
       "    <tr>\n",
       "      <th>2</th>\n",
       "      <td>a0004b1ef445af9dc84dad1e7821b1e3</td>\n",
       "      <td>Mystery: Dancing in the Dark</td>\n",
       "    </tr>\n",
       "    <tr>\n",
       "      <th>3</th>\n",
       "      <td>a00071f9aaae9ac725c3a586701abf4d</td>\n",
       "      <td>KTs Money Matters</td>\n",
       "    </tr>\n",
       "    <tr>\n",
       "      <th>4</th>\n",
       "      <td>a000a500f06555f81220c3eb641aded7</td>\n",
       "      <td>Word on the Street w/ Dreak Swift</td>\n",
       "    </tr>\n",
       "  </tbody>\n",
       "</table>\n",
       "</div>"
      ],
      "text/plain": [
       "                         podcast_id                                  title\n",
       "0  a00018b54eb342567c94dacfb2a3e504                         Scaling Global\n",
       "1  a00043d34e734b09246d17dc5d56f63c  Cornerstone Baptist Church of Orlando\n",
       "2  a0004b1ef445af9dc84dad1e7821b1e3           Mystery: Dancing in the Dark\n",
       "3  a00071f9aaae9ac725c3a586701abf4d                      KTs Money Matters\n",
       "4  a000a500f06555f81220c3eb641aded7      Word on the Street w/ Dreak Swift"
      ]
     },
     "execution_count": 7,
     "metadata": {},
     "output_type": "execute_result"
    },
    {
     "data": {
      "application/javascript": [
       "\n",
       "            setTimeout(function() {\n",
       "                var nbb_cell_id = 7;\n",
       "                var nbb_unformatted_code = \"df_podcast = pd.DataFrame(\\n    pd.read_sql_query(\\n        \\\"\\\"\\\"SELECT podcast_id, title\\n       FROM podcasts\\n\\n       \\\"\\\"\\\",\\n        con,\\n    )\\n)\\n\\ndf_podcast.head()\";\n",
       "                var nbb_formatted_code = \"df_podcast = pd.DataFrame(\\n    pd.read_sql_query(\\n        \\\"\\\"\\\"SELECT podcast_id, title\\n       FROM podcasts\\n\\n       \\\"\\\"\\\",\\n        con,\\n    )\\n)\\n\\ndf_podcast.head()\";\n",
       "                var nbb_cells = Jupyter.notebook.get_cells();\n",
       "                for (var i = 0; i < nbb_cells.length; ++i) {\n",
       "                    if (nbb_cells[i].input_prompt_number == nbb_cell_id) {\n",
       "                        if (nbb_cells[i].get_text() == nbb_unformatted_code) {\n",
       "                             nbb_cells[i].set_text(nbb_formatted_code);\n",
       "                        }\n",
       "                        break;\n",
       "                    }\n",
       "                }\n",
       "            }, 500);\n",
       "            "
      ],
      "text/plain": [
       "<IPython.core.display.Javascript object>"
      ]
     },
     "metadata": {},
     "output_type": "display_data"
    }
   ],
   "source": [
    "df_podcast = pd.DataFrame(\n",
    "    pd.read_sql_query(\n",
    "        \"\"\"SELECT podcast_id, title\n",
    "       FROM podcasts\n",
    "\n",
    "       \"\"\",\n",
    "        con,\n",
    "    )\n",
    ")\n",
    "\n",
    "df_podcast.head()"
   ]
  },
  {
   "cell_type": "code",
   "execution_count": 9,
   "id": "5583331c",
   "metadata": {},
   "outputs": [
    {
     "name": "stdout",
     "output_type": "stream",
     "text": [
      "Total Podcast Quantity:  110024\n",
      "***********************************\n",
      "Pocast Quantity by Title (Top 10 values): \n",
      " No Title              8\n",
      "Guided Meditations    4\n",
      "Welcome Home          4\n",
      "Office Hours          4\n",
      "What's Next?          4\n",
      "Podcast               4\n",
      "Unfiltered            4\n",
      "Speak Your Mind       4\n",
      "Catching Up           4\n",
      "Digging Deep          3\n",
      "Name: title, dtype: int64\n"
     ]
    },
    {
     "data": {
      "application/javascript": [
       "\n",
       "            setTimeout(function() {\n",
       "                var nbb_cell_id = 9;\n",
       "                var nbb_unformatted_code = \"df_podcast = df_podcast.drop(columns=[])\\nprint(\\\"Total Podcast Quantity: \\\", df_podcast.shape[0])\\nprint(\\\"***********************************\\\")\\nprint(\\n    \\\"Pocast Quantity by Title (Top 10 values): \\\\n\\\",\\n    df_podcast.title.value_counts().head(10),\\n)\";\n",
       "                var nbb_formatted_code = \"df_podcast = df_podcast.drop(columns=[])\\nprint(\\\"Total Podcast Quantity: \\\", df_podcast.shape[0])\\nprint(\\\"***********************************\\\")\\nprint(\\n    \\\"Pocast Quantity by Title (Top 10 values): \\\\n\\\",\\n    df_podcast.title.value_counts().head(10),\\n)\";\n",
       "                var nbb_cells = Jupyter.notebook.get_cells();\n",
       "                for (var i = 0; i < nbb_cells.length; ++i) {\n",
       "                    if (nbb_cells[i].input_prompt_number == nbb_cell_id) {\n",
       "                        if (nbb_cells[i].get_text() == nbb_unformatted_code) {\n",
       "                             nbb_cells[i].set_text(nbb_formatted_code);\n",
       "                        }\n",
       "                        break;\n",
       "                    }\n",
       "                }\n",
       "            }, 500);\n",
       "            "
      ],
      "text/plain": [
       "<IPython.core.display.Javascript object>"
      ]
     },
     "metadata": {},
     "output_type": "display_data"
    }
   ],
   "source": [
    "df_podcast = df_podcast.drop(columns=[])\n",
    "print(\"Total Podcast Quantity: \", df_podcast.shape[0])\n",
    "print(\"***********************************\")\n",
    "print(\n",
    "    \"Pocast Quantity by Title (Top 10 values): \\n\",\n",
    "    df_podcast.title.value_counts().head(10),\n",
    ")"
   ]
  },
  {
   "cell_type": "code",
   "execution_count": 10,
   "id": "0142040c",
   "metadata": {},
   "outputs": [
    {
     "data": {
      "image/png": "[encoded data removed]",
      "text/plain": [
       "<Figure size 1000x800 with 1 Axes>"
      ]
     },
     "metadata": {},
     "output_type": "display_data"
    },
    {
     "data": {
      "application/javascript": [
       "\n",
       "            setTimeout(function() {\n",
       "                var nbb_cell_id = 10;\n",
       "                var nbb_unformatted_code = \"plt.figure(figsize=(10, 8))\\nax = sns.countplot(x=df_podcast.title.value_counts(), data=df_podcast)\\nfor i in ax.patches:\\n    ax.annotate(\\n        f\\\"{i.get_height():.0f}\\\",\\n        (i.get_x() + i.get_width() / 2.5, i.get_height()),\\n        ha=\\\"center\\\",\\n        va=\\\"center\\\",\\n        xytext=(0, 6),\\n        textcoords=\\\"offset pixels\\\",\\n    )\\nplt.xlabel(\\\"Title Quantity per Podcast\\\")\\nplt.ylabel(\\\"Podcast Quantity per Title\\\")\\nplt.title(\\\"Podcasts that Share Same Title (Series)\\\")\\nplt.show()\";\n",
       "                var nbb_formatted_code = \"plt.figure(figsize=(10, 8))\\nax = sns.countplot(x=df_podcast.title.value_counts(), data=df_podcast)\\nfor i in ax.patches:\\n    ax.annotate(\\n        f\\\"{i.get_height():.0f}\\\",\\n        (i.get_x() + i.get_width() / 2.5, i.get_height()),\\n        ha=\\\"center\\\",\\n        va=\\\"center\\\",\\n        xytext=(0, 6),\\n        textcoords=\\\"offset pixels\\\",\\n    )\\nplt.xlabel(\\\"Title Quantity per Podcast\\\")\\nplt.ylabel(\\\"Podcast Quantity per Title\\\")\\nplt.title(\\\"Podcasts that Share Same Title (Series)\\\")\\nplt.show()\";\n",
       "                var nbb_cells = Jupyter.notebook.get_cells();\n",
       "                for (var i = 0; i < nbb_cells.length; ++i) {\n",
       "                    if (nbb_cells[i].input_prompt_number == nbb_cell_id) {\n",
       "                        if (nbb_cells[i].get_text() == nbb_unformatted_code) {\n",
       "                             nbb_cells[i].set_text(nbb_formatted_code);\n",
       "                        }\n",
       "                        break;\n",
       "                    }\n",
       "                }\n",
       "            }, 500);\n",
       "            "
      ],
      "text/plain": [
       "<IPython.core.display.Javascript object>"
      ]
     },
     "metadata": {},
     "output_type": "display_data"
    }
   ],
   "source": [
    "plt.figure(figsize=(10, 8))\n",
    "ax = sns.countplot(x=df_podcast.title.value_counts(), data=df_podcast)\n",
    "for i in ax.patches:\n",
    "    ax.annotate(\n",
    "        f\"{i.get_height():.0f}\",\n",
    "        (i.get_x() + i.get_width() / 2.5, i.get_height()),\n",
    "        ha=\"center\",\n",
    "        va=\"center\",\n",
    "        xytext=(0, 6),\n",
    "        textcoords=\"offset pixels\",\n",
    "    )\n",
    "plt.xlabel(\"Title Quantity per Podcast\")\n",
    "plt.ylabel(\"Podcast Quantity per Title\")\n",
    "plt.title(\"Podcasts that Share Same Title (Series)\")\n",
    "plt.show()"
   ]
  },
  {
   "cell_type": "code",
   "execution_count": 11,
   "id": "94ceb43e",
   "metadata": {
    "scrolled": false
   },
   "outputs": [
    {
     "data": {
      "text/html": [
       "<div>\n",
       "<style scoped>\n",
       "    .dataframe tbody tr th:only-of-type {\n",
       "        vertical-align: middle;\n",
       "    }\n",
       "\n",
       "    .dataframe tbody tr th {\n",
       "        vertical-align: top;\n",
       "    }\n",
       "\n",
       "    .dataframe thead th {\n",
       "        text-align: right;\n",
       "    }\n",
       "</style>\n",
       "<table border=\"1\" class=\"dataframe\">\n",
       "  <thead>\n",
       "    <tr style=\"text-align: right;\">\n",
       "      <th></th>\n",
       "      <th>podcast_id</th>\n",
       "      <th>title</th>\n",
       "    </tr>\n",
       "  </thead>\n",
       "  <tbody>\n",
       "    <tr>\n",
       "      <th>5810</th>\n",
       "      <td>a51c5579ffb2a5c12ac46f945b2a6a96</td>\n",
       "      <td>No Title</td>\n",
       "    </tr>\n",
       "    <tr>\n",
       "      <th>10887</th>\n",
       "      <td>a9842ba7e08f3356749cf2f3a2a4392b</td>\n",
       "      <td>No Title</td>\n",
       "    </tr>\n",
       "    <tr>\n",
       "      <th>25730</th>\n",
       "      <td>b658da8ac2c0ace318d7604cfb958178</td>\n",
       "      <td>No Title</td>\n",
       "    </tr>\n",
       "    <tr>\n",
       "      <th>55077</th>\n",
       "      <td>cfe5765860da1c42f853767eb0ff5f4f</td>\n",
       "      <td>No Title</td>\n",
       "    </tr>\n",
       "    <tr>\n",
       "      <th>66992</th>\n",
       "      <td>da6287a693d31247dcaad76c5c117b1c</td>\n",
       "      <td>No Title</td>\n",
       "    </tr>\n",
       "    <tr>\n",
       "      <th>81511</th>\n",
       "      <td>e71818314eb04a512511c41bd124c91f</td>\n",
       "      <td>No Title</td>\n",
       "    </tr>\n",
       "    <tr>\n",
       "      <th>96861</th>\n",
       "      <td>f47728bb8acc39b317f4e4325a2ae700</td>\n",
       "      <td>No Title</td>\n",
       "    </tr>\n",
       "    <tr>\n",
       "      <th>105954</th>\n",
       "      <td>fc6fd07daed42b85310380566ba6b461</td>\n",
       "      <td>No Title</td>\n",
       "    </tr>\n",
       "  </tbody>\n",
       "</table>\n",
       "</div>"
      ],
      "text/plain": [
       "                              podcast_id     title\n",
       "5810    a51c5579ffb2a5c12ac46f945b2a6a96  No Title\n",
       "10887   a9842ba7e08f3356749cf2f3a2a4392b  No Title\n",
       "25730   b658da8ac2c0ace318d7604cfb958178  No Title\n",
       "55077   cfe5765860da1c42f853767eb0ff5f4f  No Title\n",
       "66992   da6287a693d31247dcaad76c5c117b1c  No Title\n",
       "81511   e71818314eb04a512511c41bd124c91f  No Title\n",
       "96861   f47728bb8acc39b317f4e4325a2ae700  No Title\n",
       "105954  fc6fd07daed42b85310380566ba6b461  No Title"
      ]
     },
     "execution_count": 11,
     "metadata": {},
     "output_type": "execute_result"
    },
    {
     "data": {
      "application/javascript": [
       "\n",
       "            setTimeout(function() {\n",
       "                var nbb_cell_id = 11;\n",
       "                var nbb_unformatted_code = \"df_podcast[df_podcast[\\\"title\\\"] == \\\"No Title\\\"]\";\n",
       "                var nbb_formatted_code = \"df_podcast[df_podcast[\\\"title\\\"] == \\\"No Title\\\"]\";\n",
       "                var nbb_cells = Jupyter.notebook.get_cells();\n",
       "                for (var i = 0; i < nbb_cells.length; ++i) {\n",
       "                    if (nbb_cells[i].input_prompt_number == nbb_cell_id) {\n",
       "                        if (nbb_cells[i].get_text() == nbb_unformatted_code) {\n",
       "                             nbb_cells[i].set_text(nbb_formatted_code);\n",
       "                        }\n",
       "                        break;\n",
       "                    }\n",
       "                }\n",
       "            }, 500);\n",
       "            "
      ],
      "text/plain": [
       "<IPython.core.display.Javascript object>"
      ]
     },
     "metadata": {},
     "output_type": "display_data"
    }
   ],
   "source": [
    "df_podcast[df_podcast[\"title\"] == \"No Title\"]"
   ]
  },
  {
   "cell_type": "code",
   "execution_count": 12,
   "id": "f2d14419",
   "metadata": {
    "scrolled": true
   },
   "outputs": [
    {
     "data": {
      "application/javascript": [
       "\n",
       "            setTimeout(function() {\n",
       "                var nbb_cell_id = 12;\n",
       "                var nbb_unformatted_code = \"grouped = df_podcast.groupby(\\\"title\\\")\\nsingle_titles = grouped.filter(lambda x: len(x) == 1 or x.name == \\\"No Title\\\")\\nseries_titles = grouped.filter(lambda x: len(x) > 1 and x.name != \\\"No Title\\\")\\nsingle_titles.loc[single_titles[\\\"title\\\"] == \\\"No Title\\\", \\\"podcast_type\\\"] = \\\"single\\\"\\nsingle_titles.loc[single_titles[\\\"title\\\"] != \\\"No Title\\\", \\\"podcast_type\\\"] = \\\"single\\\"\\nseries_titles[\\\"podcast_type\\\"] = \\\"series\\\"\\ndf_podcast = pd.concat([single_titles, series_titles])\";\n",
       "                var nbb_formatted_code = \"grouped = df_podcast.groupby(\\\"title\\\")\\nsingle_titles = grouped.filter(lambda x: len(x) == 1 or x.name == \\\"No Title\\\")\\nseries_titles = grouped.filter(lambda x: len(x) > 1 and x.name != \\\"No Title\\\")\\nsingle_titles.loc[single_titles[\\\"title\\\"] == \\\"No Title\\\", \\\"podcast_type\\\"] = \\\"single\\\"\\nsingle_titles.loc[single_titles[\\\"title\\\"] != \\\"No Title\\\", \\\"podcast_type\\\"] = \\\"single\\\"\\nseries_titles[\\\"podcast_type\\\"] = \\\"series\\\"\\ndf_podcast = pd.concat([single_titles, series_titles])\";\n",
       "                var nbb_cells = Jupyter.notebook.get_cells();\n",
       "                for (var i = 0; i < nbb_cells.length; ++i) {\n",
       "                    if (nbb_cells[i].input_prompt_number == nbb_cell_id) {\n",
       "                        if (nbb_cells[i].get_text() == nbb_unformatted_code) {\n",
       "                             nbb_cells[i].set_text(nbb_formatted_code);\n",
       "                        }\n",
       "                        break;\n",
       "                    }\n",
       "                }\n",
       "            }, 500);\n",
       "            "
      ],
      "text/plain": [
       "<IPython.core.display.Javascript object>"
      ]
     },
     "metadata": {},
     "output_type": "display_data"
    }
   ],
   "source": [
    "grouped = df_podcast.groupby(\"title\")\n",
    "single_titles = grouped.filter(lambda x: len(x) == 1 or x.name == \"No Title\")\n",
    "series_titles = grouped.filter(lambda x: len(x) > 1 and x.name != \"No Title\")\n",
    "single_titles.loc[single_titles[\"title\"] == \"No Title\", \"podcast_type\"] = \"single\"\n",
    "single_titles.loc[single_titles[\"title\"] != \"No Title\", \"podcast_type\"] = \"single\"\n",
    "series_titles[\"podcast_type\"] = \"series\"\n",
    "df_podcast = pd.concat([single_titles, series_titles])"
   ]
  },
  {
   "cell_type": "code",
   "execution_count": 13,
   "id": "0ea22e77",
   "metadata": {},
   "outputs": [
    {
     "data": {
      "image/png": "[encoded data removed]",
      "text/plain": [
       "<Figure size 500x400 with 1 Axes>"
      ]
     },
     "metadata": {},
     "output_type": "display_data"
    },
    {
     "data": {
      "application/javascript": [
       "\n",
       "            setTimeout(function() {\n",
       "                var nbb_cell_id = 13;\n",
       "                var nbb_unformatted_code = \"plt.figure(figsize=(5, 4))\\nax = sns.countplot(x=df_podcast.podcast_type, data=df_podcast)\\nfor i in ax.patches:\\n    ax.annotate(\\n        f\\\"{i.get_height():.0f}\\\",\\n        (i.get_x() + i.get_width() / 2.5, i.get_height()),\\n        ha=\\\"center\\\",\\n        va=\\\"center\\\",\\n        xytext=(0, 6),\\n        textcoords=\\\"offset pixels\\\",\\n    )\\nplt.xlabel(\\\"Title Quantity per Podcast\\\")\\nplt.ylabel(\\\"Podcast Quantity per Title\\\")\\nplt.title(\\\"Podcasts that Share Same Title (Series)\\\")\\nplt.show()\";\n",
       "                var nbb_formatted_code = \"plt.figure(figsize=(5, 4))\\nax = sns.countplot(x=df_podcast.podcast_type, data=df_podcast)\\nfor i in ax.patches:\\n    ax.annotate(\\n        f\\\"{i.get_height():.0f}\\\",\\n        (i.get_x() + i.get_width() / 2.5, i.get_height()),\\n        ha=\\\"center\\\",\\n        va=\\\"center\\\",\\n        xytext=(0, 6),\\n        textcoords=\\\"offset pixels\\\",\\n    )\\nplt.xlabel(\\\"Title Quantity per Podcast\\\")\\nplt.ylabel(\\\"Podcast Quantity per Title\\\")\\nplt.title(\\\"Podcasts that Share Same Title (Series)\\\")\\nplt.show()\";\n",
       "                var nbb_cells = Jupyter.notebook.get_cells();\n",
       "                for (var i = 0; i < nbb_cells.length; ++i) {\n",
       "                    if (nbb_cells[i].input_prompt_number == nbb_cell_id) {\n",
       "                        if (nbb_cells[i].get_text() == nbb_unformatted_code) {\n",
       "                             nbb_cells[i].set_text(nbb_formatted_code);\n",
       "                        }\n",
       "                        break;\n",
       "                    }\n",
       "                }\n",
       "            }, 500);\n",
       "            "
      ],
      "text/plain": [
       "<IPython.core.display.Javascript object>"
      ]
     },
     "metadata": {},
     "output_type": "display_data"
    }
   ],
   "source": [
    "plt.figure(figsize=(5, 4))\n",
    "ax = sns.countplot(x=df_podcast.podcast_type, data=df_podcast)\n",
    "for i in ax.patches:\n",
    "    ax.annotate(\n",
    "        f\"{i.get_height():.0f}\",\n",
    "        (i.get_x() + i.get_width() / 2.5, i.get_height()),\n",
    "        ha=\"center\",\n",
    "        va=\"center\",\n",
    "        xytext=(0, 6),\n",
    "        textcoords=\"offset pixels\",\n",
    "    )\n",
    "plt.xlabel(\"Title Quantity per Podcast\")\n",
    "plt.ylabel(\"Podcast Quantity per Title\")\n",
    "plt.title(\"Podcasts that Share Same Title (Series)\")\n",
    "plt.show()"
   ]
  },
  {
   "cell_type": "markdown",
   "id": "24293085",
   "metadata": {},
   "source": [
    "* **Summary**:<br>\n",
    "    - Table in it's initial form contains 5 columns, but for our purpose we will use 2 columns: podcast_id and title.<br>\n",
    "    - There are 110024 podcasts in this dataset. <br>\n",
    "    - After counting the shows by their titles, we conclude that the repeating titles with different podcast_id are serial shows. <br>\n",
    "    - It is noticeable that there are 8 podcasts without a title. We will classify them as separate shows.\n",
    "    - Add an extra column podcast_type to distinguish between episodes (single_titles and serial_titles)."
   ]
  },
  {
   "cell_type": "markdown",
   "id": "4ccb563b",
   "metadata": {},
   "source": [
    "* Investigating table \"Reviews\":<br>\n",
    "For investigation purposes we add podcast title to the review table.\n"
   ]
  },
  {
   "cell_type": "code",
   "execution_count": 13,
   "id": "e91f32db",
   "metadata": {
    "scrolled": true
   },
   "outputs": [
    {
     "data": {
      "text/html": [
       "<div>\n",
       "<style scoped>\n",
       "    .dataframe tbody tr th:only-of-type {\n",
       "        vertical-align: middle;\n",
       "    }\n",
       "\n",
       "    .dataframe tbody tr th {\n",
       "        vertical-align: top;\n",
       "    }\n",
       "\n",
       "    .dataframe thead th {\n",
       "        text-align: right;\n",
       "    }\n",
       "</style>\n",
       "<table border=\"1\" class=\"dataframe\">\n",
       "  <thead>\n",
       "    <tr style=\"text-align: right;\">\n",
       "      <th></th>\n",
       "      <th>podcast_id</th>\n",
       "      <th>title</th>\n",
       "      <th>content</th>\n",
       "      <th>rating</th>\n",
       "      <th>author_id</th>\n",
       "      <th>review_date</th>\n",
       "    </tr>\n",
       "  </thead>\n",
       "  <tbody>\n",
       "    <tr>\n",
       "      <th>0</th>\n",
       "      <td>c61aa81c9b929a66f0c1db6cbe5d8548</td>\n",
       "      <td>Backstage at Tilles Center</td>\n",
       "      <td>Thanks for providing these insights.  Really enjoy the variety and depth -- please keep them coming!</td>\n",
       "      <td>5</td>\n",
       "      <td>F7E5A318989779D</td>\n",
       "      <td>2018-04-24 12:05:16</td>\n",
       "    </tr>\n",
       "    <tr>\n",
       "      <th>1</th>\n",
       "      <td>c61aa81c9b929a66f0c1db6cbe5d8548</td>\n",
       "      <td>Backstage at Tilles Center</td>\n",
       "      <td>Super excited to see this podcast grow. So many fun topics to talk about...Shari is really engaging. Definitely subscribing and would recommend to anyone interested in the arts!!</td>\n",
       "      <td>5</td>\n",
       "      <td>F6BF5472689BD12</td>\n",
       "      <td>2018-05-09 18:14:32</td>\n",
       "    </tr>\n",
       "    <tr>\n",
       "      <th>2</th>\n",
       "      <td>ad4f2bf69c72b8db75978423c25f379e</td>\n",
       "      <td>TED Talks Daily</td>\n",
       "      <td>I'm a liberal myself, but its pretty obvious and annoying that they're trying to push their beliefs on the listeners. Get a more politically diverse production staff, we like to see issues from multiple point of views not just yours.</td>\n",
       "      <td>1</td>\n",
       "      <td>1AB95B8E6E1309E</td>\n",
       "      <td>2019-06-11 14:53:39</td>\n",
       "    </tr>\n",
       "    <tr>\n",
       "      <th>3</th>\n",
       "      <td>ad4f2bf69c72b8db75978423c25f379e</td>\n",
       "      <td>TED Talks Daily</td>\n",
       "      <td>I find Tedx talks very inspirational but I often don’t have time to watch a video. I love that this provides an easy way for me to get in diverse information.</td>\n",
       "      <td>5</td>\n",
       "      <td>11BB760AA5DEBD1</td>\n",
       "      <td>2018-05-31 13:08:09</td>\n",
       "    </tr>\n",
       "    <tr>\n",
       "      <th>4</th>\n",
       "      <td>ad4f2bf69c72b8db75978423c25f379e</td>\n",
       "      <td>TED Talks Daily</td>\n",
       "      <td>I love this podcast, it is so good.</td>\n",
       "      <td>5</td>\n",
       "      <td>D86032C8E57D15A</td>\n",
       "      <td>2019-06-19 13:56:05</td>\n",
       "    </tr>\n",
       "  </tbody>\n",
       "</table>\n",
       "</div>"
      ],
      "text/plain": [
       "                         podcast_id                       title  \\\n",
       "0  c61aa81c9b929a66f0c1db6cbe5d8548  Backstage at Tilles Center   \n",
       "1  c61aa81c9b929a66f0c1db6cbe5d8548  Backstage at Tilles Center   \n",
       "2  ad4f2bf69c72b8db75978423c25f379e             TED Talks Daily   \n",
       "3  ad4f2bf69c72b8db75978423c25f379e             TED Talks Daily   \n",
       "4  ad4f2bf69c72b8db75978423c25f379e             TED Talks Daily   \n",
       "\n",
       "                                                                                                                                                                                                                                     content  \\\n",
       "0                                                                                                                                       Thanks for providing these insights.  Really enjoy the variety and depth -- please keep them coming!   \n",
       "1                                                         Super excited to see this podcast grow. So many fun topics to talk about...Shari is really engaging. Definitely subscribing and would recommend to anyone interested in the arts!!   \n",
       "2  I'm a liberal myself, but its pretty obvious and annoying that they're trying to push their beliefs on the listeners. Get a more politically diverse production staff, we like to see issues from multiple point of views not just yours.   \n",
       "3                                                                             I find Tedx talks very inspirational but I often don’t have time to watch a video. I love that this provides an easy way for me to get in diverse information.   \n",
       "4                                                                                                                                                                                                        I love this podcast, it is so good.   \n",
       "\n",
       "   rating        author_id          review_date  \n",
       "0       5  F7E5A318989779D  2018-04-24 12:05:16  \n",
       "1       5  F6BF5472689BD12  2018-05-09 18:14:32  \n",
       "2       1  1AB95B8E6E1309E  2019-06-11 14:53:39  \n",
       "3       5  11BB760AA5DEBD1  2018-05-31 13:08:09  \n",
       "4       5  D86032C8E57D15A  2019-06-19 13:56:05  "
      ]
     },
     "execution_count": 13,
     "metadata": {},
     "output_type": "execute_result"
    },
    {
     "data": {
      "application/javascript": [
       "\n",
       "            setTimeout(function() {\n",
       "                var nbb_cell_id = 13;\n",
       "                var nbb_unformatted_code = \"df_reviews = pd.DataFrame(\\n    pd.read_sql_query(\\n        \\\"\\\"\\\"SELECT p.podcast_id, p.title, r.content, r.rating, r.author_id, r.review_date\\n       FROM reviews AS r\\n       JOIN podcasts AS p ON p.podcast_id = r.podcast_id\\n       \\n\\n       \\\"\\\"\\\",\\n        con,\\n    )\\n)\\n\\ndf_reviews.head()\";\n",
       "                var nbb_formatted_code = \"df_reviews = pd.DataFrame(\\n    pd.read_sql_query(\\n        \\\"\\\"\\\"SELECT p.podcast_id, p.title, r.content, r.rating, r.author_id, r.review_date\\n       FROM reviews AS r\\n       JOIN podcasts AS p ON p.podcast_id = r.podcast_id\\n       \\n\\n       \\\"\\\"\\\",\\n        con,\\n    )\\n)\\n\\ndf_reviews.head()\";\n",
       "                var nbb_cells = Jupyter.notebook.get_cells();\n",
       "                for (var i = 0; i < nbb_cells.length; ++i) {\n",
       "                    if (nbb_cells[i].input_prompt_number == nbb_cell_id) {\n",
       "                        if (nbb_cells[i].get_text() == nbb_unformatted_code) {\n",
       "                             nbb_cells[i].set_text(nbb_formatted_code);\n",
       "                        }\n",
       "                        break;\n",
       "                    }\n",
       "                }\n",
       "            }, 500);\n",
       "            "
      ],
      "text/plain": [
       "<IPython.core.display.Javascript object>"
      ]
     },
     "metadata": {},
     "output_type": "display_data"
    }
   ],
   "source": [
    "df_reviews = pd.DataFrame(\n",
    "    pd.read_sql_query(\n",
    "        \"\"\"SELECT p.podcast_id, p.title, r.content, r.rating, r.author_id, r.review_date\n",
    "       FROM reviews AS r\n",
    "       JOIN podcasts AS p ON p.podcast_id = r.podcast_id\n",
    "       \n",
    "\n",
    "       \"\"\",\n",
    "        con,\n",
    "    )\n",
    ")\n",
    "\n",
    "df_reviews.head()"
   ]
  },
  {
   "cell_type": "code",
   "execution_count": 14,
   "id": "6ff1c574",
   "metadata": {},
   "outputs": [
    {
     "data": {
      "text/plain": [
       "(2043297, 6)"
      ]
     },
     "execution_count": 14,
     "metadata": {},
     "output_type": "execute_result"
    },
    {
     "data": {
      "application/javascript": [
       "\n",
       "            setTimeout(function() {\n",
       "                var nbb_cell_id = 14;\n",
       "                var nbb_unformatted_code = \"df_reviews.shape\";\n",
       "                var nbb_formatted_code = \"df_reviews.shape\";\n",
       "                var nbb_cells = Jupyter.notebook.get_cells();\n",
       "                for (var i = 0; i < nbb_cells.length; ++i) {\n",
       "                    if (nbb_cells[i].input_prompt_number == nbb_cell_id) {\n",
       "                        if (nbb_cells[i].get_text() == nbb_unformatted_code) {\n",
       "                             nbb_cells[i].set_text(nbb_formatted_code);\n",
       "                        }\n",
       "                        break;\n",
       "                    }\n",
       "                }\n",
       "            }, 500);\n",
       "            "
      ],
      "text/plain": [
       "<IPython.core.display.Javascript object>"
      ]
     },
     "metadata": {},
     "output_type": "display_data"
    }
   ],
   "source": [
    "df_reviews.shape"
   ]
  },
  {
   "cell_type": "code",
   "execution_count": 15,
   "id": "9b02ee5b",
   "metadata": {
    "scrolled": true
   },
   "outputs": [
    {
     "name": "stdout",
     "output_type": "stream",
     "text": [
      "<class 'pandas.core.frame.DataFrame'>\n",
      "RangeIndex: 2043297 entries, 0 to 2043296\n",
      "Data columns (total 6 columns):\n",
      " #   Column       Dtype \n",
      "---  ------       ----- \n",
      " 0   podcast_id   object\n",
      " 1   title        object\n",
      " 2   content      object\n",
      " 3   rating       int64 \n",
      " 4   author_id    object\n",
      " 5   review_date  object\n",
      "dtypes: int64(1), object(5)\n",
      "memory usage: 93.5+ MB\n"
     ]
    },
    {
     "data": {
      "application/javascript": [
       "\n",
       "            setTimeout(function() {\n",
       "                var nbb_cell_id = 15;\n",
       "                var nbb_unformatted_code = \"df_reviews.info()\";\n",
       "                var nbb_formatted_code = \"df_reviews.info()\";\n",
       "                var nbb_cells = Jupyter.notebook.get_cells();\n",
       "                for (var i = 0; i < nbb_cells.length; ++i) {\n",
       "                    if (nbb_cells[i].input_prompt_number == nbb_cell_id) {\n",
       "                        if (nbb_cells[i].get_text() == nbb_unformatted_code) {\n",
       "                             nbb_cells[i].set_text(nbb_formatted_code);\n",
       "                        }\n",
       "                        break;\n",
       "                    }\n",
       "                }\n",
       "            }, 500);\n",
       "            "
      ],
      "text/plain": [
       "<IPython.core.display.Javascript object>"
      ]
     },
     "metadata": {},
     "output_type": "display_data"
    }
   ],
   "source": [
    "df_reviews.info()"
   ]
  },
  {
   "cell_type": "code",
   "execution_count": 16,
   "id": "40e96e03",
   "metadata": {},
   "outputs": [
    {
     "data": {
      "text/plain": [
       "count    2043297.00\n",
       "mean           4.63\n",
       "std            1.05\n",
       "min            1.00\n",
       "25%            5.00\n",
       "50%            5.00\n",
       "75%            5.00\n",
       "max            5.00\n",
       "Name: rating, dtype: float64"
      ]
     },
     "execution_count": 16,
     "metadata": {},
     "output_type": "execute_result"
    },
    {
     "data": {
      "application/javascript": [
       "\n",
       "            setTimeout(function() {\n",
       "                var nbb_cell_id = 16;\n",
       "                var nbb_unformatted_code = \"df_reviews.rating.describe().round(2)\";\n",
       "                var nbb_formatted_code = \"df_reviews.rating.describe().round(2)\";\n",
       "                var nbb_cells = Jupyter.notebook.get_cells();\n",
       "                for (var i = 0; i < nbb_cells.length; ++i) {\n",
       "                    if (nbb_cells[i].input_prompt_number == nbb_cell_id) {\n",
       "                        if (nbb_cells[i].get_text() == nbb_unformatted_code) {\n",
       "                             nbb_cells[i].set_text(nbb_formatted_code);\n",
       "                        }\n",
       "                        break;\n",
       "                    }\n",
       "                }\n",
       "            }, 500);\n",
       "            "
      ],
      "text/plain": [
       "<IPython.core.display.Javascript object>"
      ]
     },
     "metadata": {},
     "output_type": "display_data"
    }
   ],
   "source": [
    "df_reviews.rating.describe().round(2)"
   ]
  },
  {
   "cell_type": "markdown",
   "id": "3388a72e",
   "metadata": {},
   "source": [
    "* **Note**:<br>\n",
    "- In total there are 2043297 reviews.\n",
    "-  We can see that the majority of the ratings fall at the high end of the scale, with 25%, 50%, and 75% of the ratings being 5.00. Additionally, the standard deviation of the ratings is relatively low, indicating that the ratings are clustered relatively close to the mean value."
   ]
  },
  {
   "cell_type": "markdown",
   "id": "18b82836",
   "metadata": {},
   "source": [
    "* What is the distribution of feedback per year?:"
   ]
  },
  {
   "cell_type": "code",
   "execution_count": 17,
   "id": "b0fdf495",
   "metadata": {
    "scrolled": true
   },
   "outputs": [
    {
     "data": {
      "application/javascript": [
       "\n",
       "            setTimeout(function() {\n",
       "                var nbb_cell_id = 17;\n",
       "                var nbb_unformatted_code = \"df_reviews[\\\"review_date\\\"] = pd.to_datetime(df_reviews[\\\"review_date\\\"])\\ndf_reviews[\\\"Year\\\"] = df_reviews[\\\"review_date\\\"].dt.to_period(\\\"Y\\\")\\ndf_reviews[\\\"Year\\\"].value_counts().sort_index(ascending=True)\\nyear_order = sorted(df_reviews[\\\"Year\\\"].dropna().unique())\";\n",
       "                var nbb_formatted_code = \"df_reviews[\\\"review_date\\\"] = pd.to_datetime(df_reviews[\\\"review_date\\\"])\\ndf_reviews[\\\"Year\\\"] = df_reviews[\\\"review_date\\\"].dt.to_period(\\\"Y\\\")\\ndf_reviews[\\\"Year\\\"].value_counts().sort_index(ascending=True)\\nyear_order = sorted(df_reviews[\\\"Year\\\"].dropna().unique())\";\n",
       "                var nbb_cells = Jupyter.notebook.get_cells();\n",
       "                for (var i = 0; i < nbb_cells.length; ++i) {\n",
       "                    if (nbb_cells[i].input_prompt_number == nbb_cell_id) {\n",
       "                        if (nbb_cells[i].get_text() == nbb_unformatted_code) {\n",
       "                             nbb_cells[i].set_text(nbb_formatted_code);\n",
       "                        }\n",
       "                        break;\n",
       "                    }\n",
       "                }\n",
       "            }, 500);\n",
       "            "
      ],
      "text/plain": [
       "<IPython.core.display.Javascript object>"
      ]
     },
     "metadata": {},
     "output_type": "display_data"
    }
   ],
   "source": [
    "df_reviews[\"review_date\"] = pd.to_datetime(df_reviews[\"review_date\"])\n",
    "df_reviews[\"Year\"] = df_reviews[\"review_date\"].dt.to_period(\"Y\")\n",
    "df_reviews[\"Year\"].value_counts().sort_index(ascending=True)\n",
    "year_order = sorted(df_reviews[\"Year\"].dropna().unique())"
   ]
  },
  {
   "cell_type": "code",
   "execution_count": 18,
   "id": "15c483d1",
   "metadata": {},
   "outputs": [
    {
     "name": "stdout",
     "output_type": "stream",
     "text": [
      "First review date in dataset:  2005-12-09 21:41:01\n",
      "Last review date in dataset:  2023-02-16 08:38:37\n"
     ]
    },
    {
     "data": {
      "application/javascript": [
       "\n",
       "            setTimeout(function() {\n",
       "                var nbb_cell_id = 18;\n",
       "                var nbb_unformatted_code = \"print(\\\"First review date in dataset: \\\", df_reviews[\\\"review_date\\\"].min())\\nprint(\\\"Last review date in dataset: \\\", df_reviews[\\\"review_date\\\"].max())\";\n",
       "                var nbb_formatted_code = \"print(\\\"First review date in dataset: \\\", df_reviews[\\\"review_date\\\"].min())\\nprint(\\\"Last review date in dataset: \\\", df_reviews[\\\"review_date\\\"].max())\";\n",
       "                var nbb_cells = Jupyter.notebook.get_cells();\n",
       "                for (var i = 0; i < nbb_cells.length; ++i) {\n",
       "                    if (nbb_cells[i].input_prompt_number == nbb_cell_id) {\n",
       "                        if (nbb_cells[i].get_text() == nbb_unformatted_code) {\n",
       "                             nbb_cells[i].set_text(nbb_formatted_code);\n",
       "                        }\n",
       "                        break;\n",
       "                    }\n",
       "                }\n",
       "            }, 500);\n",
       "            "
      ],
      "text/plain": [
       "<IPython.core.display.Javascript object>"
      ]
     },
     "metadata": {},
     "output_type": "display_data"
    }
   ],
   "source": [
    "print(\"First review date in dataset: \", df_reviews[\"review_date\"].min())\n",
    "print(\"Last review date in dataset: \", df_reviews[\"review_date\"].max())\n"
   ]
  },
  {
   "cell_type": "code",
   "execution_count": 53,
   "id": "e469f8a5",
   "metadata": {},
   "outputs": [
    {
     "data": {
      "image/png": "[encoded data removed]",
      "text/plain": [
       "<Figure size 1200x500 with 1 Axes>"
      ]
     },
     "metadata": {},
     "output_type": "display_data"
    },
    {
     "data": {
      "application/javascript": [
       "\n",
       "            setTimeout(function() {\n",
       "                var nbb_cell_id = 53;\n",
       "                var nbb_unformatted_code = \"plt.figure(figsize=(12, 5))\\nax = sns.countplot(data=df_reviews, x=\\\"Year\\\", order=year_order)\\nfor i in ax.patches:\\n    ax.annotate(\\n        f\\\"{i.get_height():.0f}\\\",\\n        (i.get_x() + i.get_width() / 2.5, i.get_height()),\\n        ha=\\\"center\\\",\\n        va=\\\"center\\\",\\n        xytext=(0, 5),\\n        textcoords=\\\"offset pixels\\\",\\n    )\\nplt.xlabel(\\\"Year\\\")\\nplt.ylabel(\\\"Reviews Quantity\\\")\\nplt.title(\\\"Reviews Distribution by Year\\\")\\nplt.show()\";\n",
       "                var nbb_formatted_code = \"plt.figure(figsize=(12, 5))\\nax = sns.countplot(data=df_reviews, x=\\\"Year\\\", order=year_order)\\nfor i in ax.patches:\\n    ax.annotate(\\n        f\\\"{i.get_height():.0f}\\\",\\n        (i.get_x() + i.get_width() / 2.5, i.get_height()),\\n        ha=\\\"center\\\",\\n        va=\\\"center\\\",\\n        xytext=(0, 5),\\n        textcoords=\\\"offset pixels\\\",\\n    )\\nplt.xlabel(\\\"Year\\\")\\nplt.ylabel(\\\"Reviews Quantity\\\")\\nplt.title(\\\"Reviews Distribution by Year\\\")\\nplt.show()\";\n",
       "                var nbb_cells = Jupyter.notebook.get_cells();\n",
       "                for (var i = 0; i < nbb_cells.length; ++i) {\n",
       "                    if (nbb_cells[i].input_prompt_number == nbb_cell_id) {\n",
       "                        if (nbb_cells[i].get_text() == nbb_unformatted_code) {\n",
       "                             nbb_cells[i].set_text(nbb_formatted_code);\n",
       "                        }\n",
       "                        break;\n",
       "                    }\n",
       "                }\n",
       "            }, 500);\n",
       "            "
      ],
      "text/plain": [
       "<IPython.core.display.Javascript object>"
      ]
     },
     "metadata": {},
     "output_type": "display_data"
    }
   ],
   "source": [
    "plt.figure(figsize=(12, 5))\n",
    "ax = sns.countplot(data=df_reviews, x=\"Year\", order=year_order)\n",
    "for i in ax.patches:\n",
    "    ax.annotate(\n",
    "        f\"{i.get_height():.0f}\",\n",
    "        (i.get_x() + i.get_width() / 2.5, i.get_height()),\n",
    "        ha=\"center\",\n",
    "        va=\"center\",\n",
    "        xytext=(0, 5),\n",
    "        textcoords=\"offset pixels\",\n",
    "    )\n",
    "plt.xlabel(\"Year\")\n",
    "plt.ylabel(\"Reviews Quantity\")\n",
    "plt.title(\"Reviews Distribution by Year\")\n",
    "plt.show()"
   ]
  },
  {
   "cell_type": "markdown",
   "id": "de65b915",
   "metadata": {},
   "source": [
    "* **Summary**: <br>\n",
    " - On our previous dataset investigation we had 2 entries without a date. Since this is crucial in this part we exclude them from our plot.\n",
    " - The increase in interest in the broadcasts and in the number of reviews can be attributed to the global crises. For example, the COVID-19 pandemic that began in 2019, which led to restrictions on movement, travel, business and other activities. As a result, a more sedentary lifestyle could also stimulate interest in the different types of podcasts presented."
   ]
  },
  {
   "cell_type": "markdown",
   "id": "0a6a7c41",
   "metadata": {},
   "source": [
    "* Let's see how many reviews a podcast would need to be one of the most popular:"
   ]
  },
  {
   "cell_type": "code",
   "execution_count": 19,
   "id": "db9cd297",
   "metadata": {
    "scrolled": false
   },
   "outputs": [
    {
     "name": "stdout",
     "output_type": "stream",
     "text": [
      "If you have 3 or more reviews, you have more reviews than 0.003% of all shows\n",
      "If you have 8 or more reviews, you have more reviews than 0.007% of all shows\n",
      "If you have 26 or more reviews, you have more reviews than 0.024% of all shows\n",
      "If you have 58 or more reviews, you have more reviews than 0.053% of all shows\n",
      "If you have 317 or more reviews, you have more reviews than 0.288% of all shows\n"
     ]
    },
    {
     "data": {
      "text/plain": [
       "2043297"
      ]
     },
     "execution_count": 19,
     "metadata": {},
     "output_type": "execute_result"
    },
    {
     "data": {
      "application/javascript": [
       "\n",
       "            setTimeout(function() {\n",
       "                var nbb_cell_id = 19;\n",
       "                var nbb_unformatted_code = \"reviews_count = df_reviews.groupby(\\\"podcast_id\\\")[\\\"content\\\"].count()\\nquantiles = {\\n    \\\"50%\\\": int(np.quantile(reviews_count, 0.5)),\\n    \\\"75%\\\": int(np.quantile(reviews_count, 0.75)),\\n    \\\"90%\\\": int(np.quantile(reviews_count, 0.9)),\\n    \\\"95%\\\": int(np.quantile(reviews_count, 0.95)),\\n    \\\"99%\\\": int(np.quantile(reviews_count, 0.99)),\\n}\\n\\nfor k, v in quantiles.items():\\n    percent = v * 100 / len(reviews_count)\\n    print(\\n        f\\\"If you have {v} or more reviews, you have more reviews than {percent:.3f}% of all shows\\\"\\n    )\\nreviews_count.sum()\";\n",
       "                var nbb_formatted_code = \"reviews_count = df_reviews.groupby(\\\"podcast_id\\\")[\\\"content\\\"].count()\\nquantiles = {\\n    \\\"50%\\\": int(np.quantile(reviews_count, 0.5)),\\n    \\\"75%\\\": int(np.quantile(reviews_count, 0.75)),\\n    \\\"90%\\\": int(np.quantile(reviews_count, 0.9)),\\n    \\\"95%\\\": int(np.quantile(reviews_count, 0.95)),\\n    \\\"99%\\\": int(np.quantile(reviews_count, 0.99)),\\n}\\n\\nfor k, v in quantiles.items():\\n    percent = v * 100 / len(reviews_count)\\n    print(\\n        f\\\"If you have {v} or more reviews, you have more reviews than {percent:.3f}% of all shows\\\"\\n    )\\nreviews_count.sum()\";\n",
       "                var nbb_cells = Jupyter.notebook.get_cells();\n",
       "                for (var i = 0; i < nbb_cells.length; ++i) {\n",
       "                    if (nbb_cells[i].input_prompt_number == nbb_cell_id) {\n",
       "                        if (nbb_cells[i].get_text() == nbb_unformatted_code) {\n",
       "                             nbb_cells[i].set_text(nbb_formatted_code);\n",
       "                        }\n",
       "                        break;\n",
       "                    }\n",
       "                }\n",
       "            }, 500);\n",
       "            "
      ],
      "text/plain": [
       "<IPython.core.display.Javascript object>"
      ]
     },
     "metadata": {},
     "output_type": "display_data"
    }
   ],
   "source": [
    "reviews_count = df_reviews.groupby(\"podcast_id\")[\"content\"].count()\n",
    "quantiles = {\n",
    "    \"50%\": int(np.quantile(reviews_count, 0.5)),\n",
    "    \"75%\": int(np.quantile(reviews_count, 0.75)),\n",
    "    \"90%\": int(np.quantile(reviews_count, 0.9)),\n",
    "    \"95%\": int(np.quantile(reviews_count, 0.95)),\n",
    "    \"99%\": int(np.quantile(reviews_count, 0.99)),\n",
    "}\n",
    "\n",
    "for k, v in quantiles.items():\n",
    "    percent = v * 100 / len(reviews_count)\n",
    "    print(\n",
    "        f\"If you have {v} or more reviews, you have more reviews than {percent:.3f}% of all shows\"\n",
    "    )\n",
    "reviews_count.sum()"
   ]
  },
  {
   "cell_type": "markdown",
   "id": "7851ccb9",
   "metadata": {},
   "source": [
    "* **Note**:\n",
    "Given that total quantity of reviews of all dataset is 2043297, the 0.288% percent is 5,885 of podcasts."
   ]
  },
  {
   "cell_type": "markdown",
   "id": "a81c20b7",
   "metadata": {},
   "source": [
    "* So, lets check how podcast reviews are distributed in more visual grouping:"
   ]
  },
  {
   "cell_type": "code",
   "execution_count": 20,
   "id": "ab552b01",
   "metadata": {},
   "outputs": [
    {
     "data": {
      "text/plain": [
       "review_group\n",
       "1-2 reviews       53231\n",
       "3-7 reviews       28606\n",
       "8-25 reviews      17096\n",
       "26-57 reviews      5562\n",
       "58-316 reviews     4426\n",
       "317+ reviews       1103\n",
       "Name: podcast_id, dtype: int64"
      ]
     },
     "execution_count": 20,
     "metadata": {},
     "output_type": "execute_result"
    },
    {
     "data": {
      "application/javascript": [
       "\n",
       "            setTimeout(function() {\n",
       "                var nbb_cell_id = 20;\n",
       "                var nbb_unformatted_code = \"df_review_counts = (\\n    df_reviews.groupby(\\\"podcast_id\\\").size().reset_index(name=\\\"reviews_count\\\")\\n)\\ntotal_podcasts = df_review_counts[\\\"podcast_id\\\"].nunique()\\nbins = [0, 2, 7, 25, 57, 316, max(df_review_counts[\\\"reviews_count\\\"])]\\nlabels = [\\n    \\\"1-2 reviews\\\",\\n    \\\"3-7 reviews\\\",\\n    \\\"8-25 reviews\\\",\\n    \\\"26-57 reviews\\\",\\n    \\\"58-316 reviews\\\",\\n    \\\"317+ reviews\\\",\\n]\\n\\ndf_review_counts[\\\"review_group\\\"] = pd.cut(\\n    df_review_counts[\\\"reviews_count\\\"], bins=bins, labels=labels\\n)\\ngrouped = df_review_counts.groupby(\\\"review_group\\\")[\\\"podcast_id\\\"].count()\\ngrouped\";\n",
       "                var nbb_formatted_code = \"df_review_counts = (\\n    df_reviews.groupby(\\\"podcast_id\\\").size().reset_index(name=\\\"reviews_count\\\")\\n)\\ntotal_podcasts = df_review_counts[\\\"podcast_id\\\"].nunique()\\nbins = [0, 2, 7, 25, 57, 316, max(df_review_counts[\\\"reviews_count\\\"])]\\nlabels = [\\n    \\\"1-2 reviews\\\",\\n    \\\"3-7 reviews\\\",\\n    \\\"8-25 reviews\\\",\\n    \\\"26-57 reviews\\\",\\n    \\\"58-316 reviews\\\",\\n    \\\"317+ reviews\\\",\\n]\\n\\ndf_review_counts[\\\"review_group\\\"] = pd.cut(\\n    df_review_counts[\\\"reviews_count\\\"], bins=bins, labels=labels\\n)\\ngrouped = df_review_counts.groupby(\\\"review_group\\\")[\\\"podcast_id\\\"].count()\\ngrouped\";\n",
       "                var nbb_cells = Jupyter.notebook.get_cells();\n",
       "                for (var i = 0; i < nbb_cells.length; ++i) {\n",
       "                    if (nbb_cells[i].input_prompt_number == nbb_cell_id) {\n",
       "                        if (nbb_cells[i].get_text() == nbb_unformatted_code) {\n",
       "                             nbb_cells[i].set_text(nbb_formatted_code);\n",
       "                        }\n",
       "                        break;\n",
       "                    }\n",
       "                }\n",
       "            }, 500);\n",
       "            "
      ],
      "text/plain": [
       "<IPython.core.display.Javascript object>"
      ]
     },
     "metadata": {},
     "output_type": "display_data"
    }
   ],
   "source": [
    "df_review_counts = (\n",
    "    df_reviews.groupby(\"podcast_id\").size().reset_index(name=\"reviews_count\")\n",
    ")\n",
    "total_podcasts = df_review_counts[\"podcast_id\"].nunique()\n",
    "bins = [0, 2, 7, 25, 57, 316, max(df_review_counts[\"reviews_count\"])]\n",
    "labels = [\n",
    "    \"1-2 reviews\",\n",
    "    \"3-7 reviews\",\n",
    "    \"8-25 reviews\",\n",
    "    \"26-57 reviews\",\n",
    "    \"58-316 reviews\",\n",
    "    \"317+ reviews\",\n",
    "]\n",
    "\n",
    "df_review_counts[\"review_group\"] = pd.cut(\n",
    "    df_review_counts[\"reviews_count\"], bins=bins, labels=labels\n",
    ")\n",
    "grouped = df_review_counts.groupby(\"review_group\")[\"podcast_id\"].count()\n",
    "grouped"
   ]
  },
  {
   "cell_type": "markdown",
   "id": "7d3e41bf",
   "metadata": {},
   "source": [
    "* Plot the percentage distribution of reviews in each group:"
   ]
  },
  {
   "cell_type": "code",
   "execution_count": 21,
   "id": "7fbcdac9",
   "metadata": {
    "scrolled": false
   },
   "outputs": [
    {
     "data": {
      "image/png": "[encoded data removed]",
      "text/plain": [
       "<Figure size 1200x800 with 1 Axes>"
      ]
     },
     "metadata": {},
     "output_type": "display_data"
    },
    {
     "data": {
      "application/javascript": [
       "\n",
       "            setTimeout(function() {\n",
       "                var nbb_cell_id = 21;\n",
       "                var nbb_unformatted_code = \"podcasts_proportions = grouped / total_podcasts * 100\\n\\nplt.figure(figsize=(12, 8))\\nax = sns.barplot(x=podcasts_proportions.index, y=podcasts_proportions)\\nfor i in ax.patches:\\n    ax.annotate(\\n        f\\\"{i.get_height():.2f}%\\\",\\n        (i.get_x() + i.get_width() / 2.5, i.get_height()),\\n        ha=\\\"center\\\",\\n        va=\\\"center\\\",\\n        xytext=(0, 5),\\n        textcoords=\\\"offset pixels\\\",\\n    )\\nplt.xticks(fontsize=8, rotation=0)\\nplt.xlabel('Number of Reviews per Podcast')\\nplt.ylabel('Percentage of Podcasts')\\nplt.title('Percentage Distribution of Podcasts by Review Count')\\nplt.show()\";\n",
       "                var nbb_formatted_code = \"podcasts_proportions = grouped / total_podcasts * 100\\n\\nplt.figure(figsize=(12, 8))\\nax = sns.barplot(x=podcasts_proportions.index, y=podcasts_proportions)\\nfor i in ax.patches:\\n    ax.annotate(\\n        f\\\"{i.get_height():.2f}%\\\",\\n        (i.get_x() + i.get_width() / 2.5, i.get_height()),\\n        ha=\\\"center\\\",\\n        va=\\\"center\\\",\\n        xytext=(0, 5),\\n        textcoords=\\\"offset pixels\\\",\\n    )\\nplt.xticks(fontsize=8, rotation=0)\\nplt.xlabel(\\\"Number of Reviews per Podcast\\\")\\nplt.ylabel(\\\"Percentage of Podcasts\\\")\\nplt.title(\\\"Percentage Distribution of Podcasts by Review Count\\\")\\nplt.show()\";\n",
       "                var nbb_cells = Jupyter.notebook.get_cells();\n",
       "                for (var i = 0; i < nbb_cells.length; ++i) {\n",
       "                    if (nbb_cells[i].input_prompt_number == nbb_cell_id) {\n",
       "                        if (nbb_cells[i].get_text() == nbb_unformatted_code) {\n",
       "                             nbb_cells[i].set_text(nbb_formatted_code);\n",
       "                        }\n",
       "                        break;\n",
       "                    }\n",
       "                }\n",
       "            }, 500);\n",
       "            "
      ],
      "text/plain": [
       "<IPython.core.display.Javascript object>"
      ]
     },
     "metadata": {},
     "output_type": "display_data"
    }
   ],
   "source": [
    "podcasts_proportions = grouped / total_podcasts * 100\n",
    "\n",
    "plt.figure(figsize=(12, 8))\n",
    "ax = sns.barplot(x=podcasts_proportions.index, y=podcasts_proportions)\n",
    "for i in ax.patches:\n",
    "    ax.annotate(\n",
    "        f\"{i.get_height():.2f}%\",\n",
    "        (i.get_x() + i.get_width() / 2.5, i.get_height()),\n",
    "        ha=\"center\",\n",
    "        va=\"center\",\n",
    "        xytext=(0, 5),\n",
    "        textcoords=\"offset pixels\",\n",
    "    )\n",
    "plt.xticks(fontsize=8, rotation=0)\n",
    "plt.xlabel('Number of Reviews per Podcast')\n",
    "plt.ylabel('Percentage of Podcasts')\n",
    "plt.title('Percentage Distribution of Podcasts by Review Count')\n",
    "plt.show()\n"
   ]
  },
  {
   "cell_type": "markdown",
   "id": "3e1cb438",
   "metadata": {},
   "source": [
    "* Checking reviews distribution based on podcast_type"
   ]
  },
  {
   "cell_type": "code",
   "execution_count": 22,
   "id": "409cdb2b",
   "metadata": {
    "scrolled": true
   },
   "outputs": [
    {
     "data": {
      "text/html": [
       "<div>\n",
       "<style scoped>\n",
       "    .dataframe tbody tr th:only-of-type {\n",
       "        vertical-align: middle;\n",
       "    }\n",
       "\n",
       "    .dataframe tbody tr th {\n",
       "        vertical-align: top;\n",
       "    }\n",
       "\n",
       "    .dataframe thead th {\n",
       "        text-align: right;\n",
       "    }\n",
       "</style>\n",
       "<table border=\"1\" class=\"dataframe\">\n",
       "  <thead>\n",
       "    <tr style=\"text-align: right;\">\n",
       "      <th></th>\n",
       "      <th>podcast_id</th>\n",
       "      <th>title</th>\n",
       "      <th>content</th>\n",
       "      <th>rating</th>\n",
       "      <th>author_id</th>\n",
       "      <th>review_date</th>\n",
       "      <th>Year</th>\n",
       "      <th>podcast_type</th>\n",
       "    </tr>\n",
       "  </thead>\n",
       "  <tbody>\n",
       "    <tr>\n",
       "      <th>0</th>\n",
       "      <td>c61aa81c9b929a66f0c1db6cbe5d8548</td>\n",
       "      <td>Backstage at Tilles Center</td>\n",
       "      <td>Thanks for providing these insights.  Really enjoy the variety and depth -- please keep them coming!</td>\n",
       "      <td>5</td>\n",
       "      <td>F7E5A318989779D</td>\n",
       "      <td>2018-04-24 12:05:16</td>\n",
       "      <td>2018</td>\n",
       "      <td>single</td>\n",
       "    </tr>\n",
       "    <tr>\n",
       "      <th>1</th>\n",
       "      <td>c61aa81c9b929a66f0c1db6cbe5d8548</td>\n",
       "      <td>Backstage at Tilles Center</td>\n",
       "      <td>Super excited to see this podcast grow. So many fun topics to talk about...Shari is really engaging. Definitely subscribing and would recommend to anyone interested in the arts!!</td>\n",
       "      <td>5</td>\n",
       "      <td>F6BF5472689BD12</td>\n",
       "      <td>2018-05-09 18:14:32</td>\n",
       "      <td>2018</td>\n",
       "      <td>single</td>\n",
       "    </tr>\n",
       "    <tr>\n",
       "      <th>2</th>\n",
       "      <td>ad4f2bf69c72b8db75978423c25f379e</td>\n",
       "      <td>TED Talks Daily</td>\n",
       "      <td>I'm a liberal myself, but its pretty obvious and annoying that they're trying to push their beliefs on the listeners. Get a more politically diverse production staff, we like to see issues from multiple point of views not just yours.</td>\n",
       "      <td>1</td>\n",
       "      <td>1AB95B8E6E1309E</td>\n",
       "      <td>2019-06-11 14:53:39</td>\n",
       "      <td>2019</td>\n",
       "      <td>single</td>\n",
       "    </tr>\n",
       "    <tr>\n",
       "      <th>3</th>\n",
       "      <td>ad4f2bf69c72b8db75978423c25f379e</td>\n",
       "      <td>TED Talks Daily</td>\n",
       "      <td>I find Tedx talks very inspirational but I often don’t have time to watch a video. I love that this provides an easy way for me to get in diverse information.</td>\n",
       "      <td>5</td>\n",
       "      <td>11BB760AA5DEBD1</td>\n",
       "      <td>2018-05-31 13:08:09</td>\n",
       "      <td>2018</td>\n",
       "      <td>single</td>\n",
       "    </tr>\n",
       "    <tr>\n",
       "      <th>4</th>\n",
       "      <td>ad4f2bf69c72b8db75978423c25f379e</td>\n",
       "      <td>TED Talks Daily</td>\n",
       "      <td>I love this podcast, it is so good.</td>\n",
       "      <td>5</td>\n",
       "      <td>D86032C8E57D15A</td>\n",
       "      <td>2019-06-19 13:56:05</td>\n",
       "      <td>2019</td>\n",
       "      <td>single</td>\n",
       "    </tr>\n",
       "  </tbody>\n",
       "</table>\n",
       "</div>"
      ],
      "text/plain": [
       "                         podcast_id                       title  \\\n",
       "0  c61aa81c9b929a66f0c1db6cbe5d8548  Backstage at Tilles Center   \n",
       "1  c61aa81c9b929a66f0c1db6cbe5d8548  Backstage at Tilles Center   \n",
       "2  ad4f2bf69c72b8db75978423c25f379e             TED Talks Daily   \n",
       "3  ad4f2bf69c72b8db75978423c25f379e             TED Talks Daily   \n",
       "4  ad4f2bf69c72b8db75978423c25f379e             TED Talks Daily   \n",
       "\n",
       "                                                                                                                                                                                                                                     content  \\\n",
       "0                                                                                                                                       Thanks for providing these insights.  Really enjoy the variety and depth -- please keep them coming!   \n",
       "1                                                         Super excited to see this podcast grow. So many fun topics to talk about...Shari is really engaging. Definitely subscribing and would recommend to anyone interested in the arts!!   \n",
       "2  I'm a liberal myself, but its pretty obvious and annoying that they're trying to push their beliefs on the listeners. Get a more politically diverse production staff, we like to see issues from multiple point of views not just yours.   \n",
       "3                                                                             I find Tedx talks very inspirational but I often don’t have time to watch a video. I love that this provides an easy way for me to get in diverse information.   \n",
       "4                                                                                                                                                                                                        I love this podcast, it is so good.   \n",
       "\n",
       "   rating        author_id         review_date  Year podcast_type  \n",
       "0       5  F7E5A318989779D 2018-04-24 12:05:16  2018       single  \n",
       "1       5  F6BF5472689BD12 2018-05-09 18:14:32  2018       single  \n",
       "2       1  1AB95B8E6E1309E 2019-06-11 14:53:39  2019       single  \n",
       "3       5  11BB760AA5DEBD1 2018-05-31 13:08:09  2018       single  \n",
       "4       5  D86032C8E57D15A 2019-06-19 13:56:05  2019       single  "
      ]
     },
     "execution_count": 22,
     "metadata": {},
     "output_type": "execute_result"
    },
    {
     "data": {
      "application/javascript": [
       "\n",
       "            setTimeout(function() {\n",
       "                var nbb_cell_id = 22;\n",
       "                var nbb_unformatted_code = \"df_reviews = (\\n    pd.merge(df_reviews, df_podcast, how=\\\"inner\\\", on=\\\"podcast_id\\\")\\n    .rename(columns={\\\"title_x\\\": \\\"title\\\"})\\n    .drop(columns=\\\"title_y\\\")\\n)\\ndf_reviews.head()\";\n",
       "                var nbb_formatted_code = \"df_reviews = (\\n    pd.merge(df_reviews, df_podcast, how=\\\"inner\\\", on=\\\"podcast_id\\\")\\n    .rename(columns={\\\"title_x\\\": \\\"title\\\"})\\n    .drop(columns=\\\"title_y\\\")\\n)\\ndf_reviews.head()\";\n",
       "                var nbb_cells = Jupyter.notebook.get_cells();\n",
       "                for (var i = 0; i < nbb_cells.length; ++i) {\n",
       "                    if (nbb_cells[i].input_prompt_number == nbb_cell_id) {\n",
       "                        if (nbb_cells[i].get_text() == nbb_unformatted_code) {\n",
       "                             nbb_cells[i].set_text(nbb_formatted_code);\n",
       "                        }\n",
       "                        break;\n",
       "                    }\n",
       "                }\n",
       "            }, 500);\n",
       "            "
      ],
      "text/plain": [
       "<IPython.core.display.Javascript object>"
      ]
     },
     "metadata": {},
     "output_type": "display_data"
    }
   ],
   "source": [
    "df_reviews = (\n",
    "    pd.merge(df_reviews, df_podcast, how=\"inner\", on=\"podcast_id\")\n",
    "    .rename(columns={\"title_x\": \"title\"})\n",
    "    .drop(columns=\"title_y\")\n",
    ")\n",
    "df_reviews.head()"
   ]
  },
  {
   "cell_type": "markdown",
   "id": "8cb1d938",
   "metadata": {},
   "source": [
    "* **Note**:<br>\n",
    "    How statistically significant the rating mean among podcast types? By using a t-test, we can avoid data issues such as making assumptions about the normal distribution of the data."
   ]
  },
  {
   "cell_type": "code",
   "execution_count": 24,
   "id": "7f2001e6",
   "metadata": {},
   "outputs": [
    {
     "name": "stdout",
     "output_type": "stream",
     "text": [
      "The mean difference is statistically significant.\n",
      "t-value: 16.25475896170665\n",
      "p-value: 3.745498969078223e-59\n"
     ]
    },
    {
     "data": {
      "application/javascript": [
       "\n",
       "            setTimeout(function() {\n",
       "                var nbb_cell_id = 24;\n",
       "                var nbb_unformatted_code = \"# Separate dataframes for Single and Series podcasts\\ndf_single = df_reviews[df_reviews[\\\"podcast_type\\\"] == \\\"single\\\"]\\ndf_series = df_reviews[df_reviews[\\\"podcast_type\\\"] == \\\"series\\\"]\\nalpha = 0.05\\n# Calculate the t-test\\nt, p = stats.ttest_ind(df_single[\\\"rating\\\"], df_series[\\\"rating\\\"], equal_var=False)\\nif p < alpha:\\n    print(\\\"The mean difference is statistically significant.\\\")\\nelse:\\n    print(\\\"The mean difference is not statistically significant.\\\")\\nprint(\\\"t-value:\\\", t)\\nprint(\\\"p-value:\\\", p)\";\n",
       "                var nbb_formatted_code = \"# Separate dataframes for Single and Series podcasts\\ndf_single = df_reviews[df_reviews[\\\"podcast_type\\\"] == \\\"single\\\"]\\ndf_series = df_reviews[df_reviews[\\\"podcast_type\\\"] == \\\"series\\\"]\\nalpha = 0.05\\n# Calculate the t-test\\nt, p = stats.ttest_ind(df_single[\\\"rating\\\"], df_series[\\\"rating\\\"], equal_var=False)\\nif p < alpha:\\n    print(\\\"The mean difference is statistically significant.\\\")\\nelse:\\n    print(\\\"The mean difference is not statistically significant.\\\")\\nprint(\\\"t-value:\\\", t)\\nprint(\\\"p-value:\\\", p)\";\n",
       "                var nbb_cells = Jupyter.notebook.get_cells();\n",
       "                for (var i = 0; i < nbb_cells.length; ++i) {\n",
       "                    if (nbb_cells[i].input_prompt_number == nbb_cell_id) {\n",
       "                        if (nbb_cells[i].get_text() == nbb_unformatted_code) {\n",
       "                             nbb_cells[i].set_text(nbb_formatted_code);\n",
       "                        }\n",
       "                        break;\n",
       "                    }\n",
       "                }\n",
       "            }, 500);\n",
       "            "
      ],
      "text/plain": [
       "<IPython.core.display.Javascript object>"
      ]
     },
     "metadata": {},
     "output_type": "display_data"
    }
   ],
   "source": [
    "# Separate dataframes for Single and Series podcasts\n",
    "df_single = df_reviews[df_reviews[\"podcast_type\"] == \"single\"]\n",
    "df_series = df_reviews[df_reviews[\"podcast_type\"] == \"series\"]\n",
    "alpha = 0.05\n",
    "# Calculate the t-test\n",
    "t, p = stats.ttest_ind(df_single[\"rating\"], df_series[\"rating\"], equal_var=False)\n",
    "if p < alpha:\n",
    "    print(\"The mean difference is statistically significant.\")\n",
    "else:\n",
    "    print(\"The mean difference is not statistically significant.\")\n",
    "print(\"t-value:\", t)\n",
    "print(\"p-value:\", p)"
   ]
  },
  {
   "cell_type": "markdown",
   "id": "5db669d8",
   "metadata": {},
   "source": [
    "* Conclusion:<br>\n",
    "The probability of observing a difference in means as extreme as the one calculated, assuming that the means are actually equal, is extremely low. Therefore, with 95% confidence we can reject the null hypothesis and conclude that the mean rating for single podcasts is statistically significantly different from the mean rating for series podcasts. <br> - The t-value is used in hypothesis testing to determine whether the difference between two groups is statistically significant or not. A t-value greater than 2 or less than -2 is generally considered to be statistically significant, indicating that the difference between the two groups is unlikely to have occurred by chance."
   ]
  },
  {
   "cell_type": "markdown",
   "id": "0e5a44c2",
   "metadata": {},
   "source": [
    "* Checking the description of dataset ratings based on podcast types and get what is the diffrence between rating means:"
   ]
  },
  {
   "cell_type": "code",
   "execution_count": 25,
   "id": "d83cd789",
   "metadata": {},
   "outputs": [
    {
     "name": "stdout",
     "output_type": "stream",
     "text": [
      "Single Podcasts:\n",
      "count   2014561.00\n",
      "mean          4.63\n",
      "std           1.04\n",
      "min           1.00\n",
      "25%           5.00\n",
      "50%           5.00\n",
      "75%           5.00\n",
      "max           5.00\n",
      "Name: rating, dtype: float64\n",
      "\n",
      "Series Podcasts:\n",
      "count   28736.00\n",
      "mean        4.52\n",
      "std         1.16\n",
      "min         1.00\n",
      "25%         5.00\n",
      "50%         5.00\n",
      "75%         5.00\n",
      "max         5.00\n",
      "Name: rating, dtype: float64\n",
      "The diffrence of podcasts ratings mean:  0.1120686713675898\n"
     ]
    },
    {
     "data": {
      "application/javascript": [
       "\n",
       "            setTimeout(function() {\n",
       "                var nbb_cell_id = 25;\n",
       "                var nbb_unformatted_code = \"single_podcast_ratings = df_reviews[df_reviews[\\\"podcast_type\\\"] == \\\"single\\\"][\\\"rating\\\"]\\nseries_podcast_ratings = df_reviews[df_reviews[\\\"podcast_type\\\"] == \\\"series\\\"][\\\"rating\\\"]\\npd.options.display.float_format = \\\"{:.2f}\\\".format\\nprint(\\\"Single Podcasts:\\\")\\nprint(single_podcast_ratings.describe())\\n\\nprint(\\\"\\\\nSeries Podcasts:\\\")\\nprint(series_podcast_ratings.describe())\\n\\nmean_rating_difference = single_podcast_ratings.mean() - series_podcast_ratings.mean()\\nprint(\\\"The diffrence of podcasts ratings mean: \\\", mean_rating_difference)\";\n",
       "                var nbb_formatted_code = \"single_podcast_ratings = df_reviews[df_reviews[\\\"podcast_type\\\"] == \\\"single\\\"][\\\"rating\\\"]\\nseries_podcast_ratings = df_reviews[df_reviews[\\\"podcast_type\\\"] == \\\"series\\\"][\\\"rating\\\"]\\npd.options.display.float_format = \\\"{:.2f}\\\".format\\nprint(\\\"Single Podcasts:\\\")\\nprint(single_podcast_ratings.describe())\\n\\nprint(\\\"\\\\nSeries Podcasts:\\\")\\nprint(series_podcast_ratings.describe())\\n\\nmean_rating_difference = single_podcast_ratings.mean() - series_podcast_ratings.mean()\\nprint(\\\"The diffrence of podcasts ratings mean: \\\", mean_rating_difference)\";\n",
       "                var nbb_cells = Jupyter.notebook.get_cells();\n",
       "                for (var i = 0; i < nbb_cells.length; ++i) {\n",
       "                    if (nbb_cells[i].input_prompt_number == nbb_cell_id) {\n",
       "                        if (nbb_cells[i].get_text() == nbb_unformatted_code) {\n",
       "                             nbb_cells[i].set_text(nbb_formatted_code);\n",
       "                        }\n",
       "                        break;\n",
       "                    }\n",
       "                }\n",
       "            }, 500);\n",
       "            "
      ],
      "text/plain": [
       "<IPython.core.display.Javascript object>"
      ]
     },
     "metadata": {},
     "output_type": "display_data"
    }
   ],
   "source": [
    "single_podcast_ratings = df_reviews[df_reviews[\"podcast_type\"] == \"single\"][\"rating\"]\n",
    "series_podcast_ratings = df_reviews[df_reviews[\"podcast_type\"] == \"series\"][\"rating\"]\n",
    "pd.options.display.float_format = \"{:.2f}\".format\n",
    "print(\"Single Podcasts:\")\n",
    "print(single_podcast_ratings.describe())\n",
    "\n",
    "print(\"\\nSeries Podcasts:\")\n",
    "print(series_podcast_ratings.describe())\n",
    "\n",
    "mean_rating_difference = single_podcast_ratings.mean() - series_podcast_ratings.mean()\n",
    "print(\"The diffrence of podcasts ratings mean: \", mean_rating_difference)"
   ]
  },
  {
   "cell_type": "markdown",
   "id": "cd3a69db",
   "metadata": {},
   "source": [
    "* Conclusion:<br>\n",
    "We can see that the majority of the ratings fall at the high end of the scale, with 25%, 50%, and 75% of the ratings being 5.00. Additionally, the standard deviation of the ratings is relatively low, indicating that the ratings are clustered relatively close to the mean value.<br>\n",
    "The difference of podcasts mean shows, that single podcasts tend to get higher evaluations."
   ]
  },
  {
   "cell_type": "code",
   "execution_count": 26,
   "id": "6ae24094",
   "metadata": {
    "scrolled": false
   },
   "outputs": [
    {
     "data": {
      "image/png": "[encoded data removed]",
      "text/plain": [
       "<Figure size 800x600 with 1 Axes>"
      ]
     },
     "metadata": {},
     "output_type": "display_data"
    },
    {
     "data": {
      "application/javascript": [
       "\n",
       "            setTimeout(function() {\n",
       "                var nbb_cell_id = 26;\n",
       "                var nbb_unformatted_code = \"rating_counts = (\\n    df_reviews.groupby(\\\"rating\\\")[\\\"podcast_id\\\"]\\n    .count()\\n    .rename(\\\"podcast_count\\\")\\n    .reset_index()\\n    .sort_values(\\\"podcast_count\\\", ascending=False)\\n)\\n\\nplt.figure(figsize=(8, 6))\\nax = sns.barplot(x=\\\"rating\\\", y=\\\"podcast_count\\\", data=rating_counts)\\nfor i in ax.patches:\\n    ax.annotate(\\n        f\\\"{i.get_height():.0f}\\\",\\n        (i.get_x() + i.get_width() / 2.5, i.get_height()),\\n        ha=\\\"center\\\",\\n        va=\\\"center\\\",\\n        xytext=(0, 5),\\n        textcoords=\\\"offset pixels\\\",\\n    )\\nax.set_xlabel(\\\"Rating\\\")\\nax.set_ylabel(\\\"Podcast Count\\\")\\nax.set_title(\\\"Podcast Count by Rating\\\")\\nplt.show()\";\n",
       "                var nbb_formatted_code = \"rating_counts = (\\n    df_reviews.groupby(\\\"rating\\\")[\\\"podcast_id\\\"]\\n    .count()\\n    .rename(\\\"podcast_count\\\")\\n    .reset_index()\\n    .sort_values(\\\"podcast_count\\\", ascending=False)\\n)\\n\\nplt.figure(figsize=(8, 6))\\nax = sns.barplot(x=\\\"rating\\\", y=\\\"podcast_count\\\", data=rating_counts)\\nfor i in ax.patches:\\n    ax.annotate(\\n        f\\\"{i.get_height():.0f}\\\",\\n        (i.get_x() + i.get_width() / 2.5, i.get_height()),\\n        ha=\\\"center\\\",\\n        va=\\\"center\\\",\\n        xytext=(0, 5),\\n        textcoords=\\\"offset pixels\\\",\\n    )\\nax.set_xlabel(\\\"Rating\\\")\\nax.set_ylabel(\\\"Podcast Count\\\")\\nax.set_title(\\\"Podcast Count by Rating\\\")\\nplt.show()\";\n",
       "                var nbb_cells = Jupyter.notebook.get_cells();\n",
       "                for (var i = 0; i < nbb_cells.length; ++i) {\n",
       "                    if (nbb_cells[i].input_prompt_number == nbb_cell_id) {\n",
       "                        if (nbb_cells[i].get_text() == nbb_unformatted_code) {\n",
       "                             nbb_cells[i].set_text(nbb_formatted_code);\n",
       "                        }\n",
       "                        break;\n",
       "                    }\n",
       "                }\n",
       "            }, 500);\n",
       "            "
      ],
      "text/plain": [
       "<IPython.core.display.Javascript object>"
      ]
     },
     "metadata": {},
     "output_type": "display_data"
    }
   ],
   "source": [
    "rating_counts = (\n",
    "    df_reviews.groupby(\"rating\")[\"podcast_id\"]\n",
    "    .count()\n",
    "    .rename(\"podcast_count\")\n",
    "    .reset_index()\n",
    "    .sort_values(\"podcast_count\", ascending=False)\n",
    ")\n",
    "\n",
    "plt.figure(figsize=(8, 6))\n",
    "ax = sns.barplot(x=\"rating\", y=\"podcast_count\", data=rating_counts)\n",
    "for i in ax.patches:\n",
    "    ax.annotate(\n",
    "        f\"{i.get_height():.0f}\",\n",
    "        (i.get_x() + i.get_width() / 2.5, i.get_height()),\n",
    "        ha=\"center\",\n",
    "        va=\"center\",\n",
    "        xytext=(0, 5),\n",
    "        textcoords=\"offset pixels\",\n",
    "    )\n",
    "ax.set_xlabel(\"Rating\")\n",
    "ax.set_ylabel(\"Podcast Count\")\n",
    "ax.set_title(\"Podcast Count by Rating\")\n",
    "plt.show()"
   ]
  },
  {
   "cell_type": "markdown",
   "id": "4865ed4e",
   "metadata": {},
   "source": [
    "* **Note**: <br>\n",
    "As we observe he vast majority (86.60%) are 5-star ratings. The second choice was 1-star ratings. That is people either love podcast or hate it."
   ]
  },
  {
   "cell_type": "markdown",
   "id": "85410af7",
   "metadata": {},
   "source": [
    "* Let's check the hypothesis that people tend to write longer reviews when they are disappointed or not happy about product (in our case podcast)"
   ]
  },
  {
   "cell_type": "markdown",
   "id": "f73c7975",
   "metadata": {},
   "source": [
    "* Hypothesis: \n",
    "    - Null hypothesis (H0): review_1_length = review_5_length\n",
    "    - Alternative hypothesis (HA): review_1_length != review_5_length"
   ]
  },
  {
   "cell_type": "code",
   "execution_count": 27,
   "id": "6ed13792",
   "metadata": {},
   "outputs": [
    {
     "data": {
      "text/plain": [
       "2035356"
      ]
     },
     "execution_count": 27,
     "metadata": {},
     "output_type": "execute_result"
    },
    {
     "data": {
      "application/javascript": [
       "\n",
       "            setTimeout(function() {\n",
       "                var nbb_cell_id = 27;\n",
       "                var nbb_unformatted_code = \"# Filtering only English based content\\nenglish_pattern = r\\\"[A-Za-z0-9]\\\"\\ndf_reviews = df_reviews[\\n    df_reviews[\\\"content\\\"].str.contains(english_pattern, regex=True, na=False)\\n]\\ndf_reviews.content.count()\";\n",
       "                var nbb_formatted_code = \"# Filtering only English based content\\nenglish_pattern = r\\\"[A-Za-z0-9]\\\"\\ndf_reviews = df_reviews[\\n    df_reviews[\\\"content\\\"].str.contains(english_pattern, regex=True, na=False)\\n]\\ndf_reviews.content.count()\";\n",
       "                var nbb_cells = Jupyter.notebook.get_cells();\n",
       "                for (var i = 0; i < nbb_cells.length; ++i) {\n",
       "                    if (nbb_cells[i].input_prompt_number == nbb_cell_id) {\n",
       "                        if (nbb_cells[i].get_text() == nbb_unformatted_code) {\n",
       "                             nbb_cells[i].set_text(nbb_formatted_code);\n",
       "                        }\n",
       "                        break;\n",
       "                    }\n",
       "                }\n",
       "            }, 500);\n",
       "            "
      ],
      "text/plain": [
       "<IPython.core.display.Javascript object>"
      ]
     },
     "metadata": {},
     "output_type": "display_data"
    }
   ],
   "source": [
    "# Filtering only English based content\n",
    "english_pattern = r\"[A-Za-z0-9]\"\n",
    "df_reviews = df_reviews[\n",
    "    df_reviews[\"content\"].str.contains(english_pattern, regex=True, na=False)\n",
    "]\n",
    "df_reviews.content.count()"
   ]
  },
  {
   "cell_type": "code",
   "execution_count": 28,
   "id": "43f6f171",
   "metadata": {},
   "outputs": [
    {
     "data": {
      "application/javascript": [
       "\n",
       "            setTimeout(function() {\n",
       "                var nbb_cell_id = 28;\n",
       "                var nbb_unformatted_code = \"# Separate dataframes for Single and Series podcasts\\ndf_5_star = df_reviews[df_reviews[\\\"rating\\\"] == 5]\\ndf_1_star = df_reviews[df_reviews[\\\"rating\\\"] == 1]\\nreview_5_length = df_5_star[\\\"content\\\"].str.len()\\nreview_1_length = df_1_star[\\\"content\\\"].str.len()\";\n",
       "                var nbb_formatted_code = \"# Separate dataframes for Single and Series podcasts\\ndf_5_star = df_reviews[df_reviews[\\\"rating\\\"] == 5]\\ndf_1_star = df_reviews[df_reviews[\\\"rating\\\"] == 1]\\nreview_5_length = df_5_star[\\\"content\\\"].str.len()\\nreview_1_length = df_1_star[\\\"content\\\"].str.len()\";\n",
       "                var nbb_cells = Jupyter.notebook.get_cells();\n",
       "                for (var i = 0; i < nbb_cells.length; ++i) {\n",
       "                    if (nbb_cells[i].input_prompt_number == nbb_cell_id) {\n",
       "                        if (nbb_cells[i].get_text() == nbb_unformatted_code) {\n",
       "                             nbb_cells[i].set_text(nbb_formatted_code);\n",
       "                        }\n",
       "                        break;\n",
       "                    }\n",
       "                }\n",
       "            }, 500);\n",
       "            "
      ],
      "text/plain": [
       "<IPython.core.display.Javascript object>"
      ]
     },
     "metadata": {},
     "output_type": "display_data"
    }
   ],
   "source": [
    "# Separate dataframes for Single and Series podcasts\n",
    "df_5_star = df_reviews[df_reviews[\"rating\"] == 5]\n",
    "df_1_star = df_reviews[df_reviews[\"rating\"] == 1]\n",
    "review_5_length = df_5_star[\"content\"].str.len()\n",
    "review_1_length = df_1_star[\"content\"].str.len()"
   ]
  },
  {
   "cell_type": "code",
   "execution_count": 29,
   "id": "0d19dc69",
   "metadata": {},
   "outputs": [
    {
     "name": "stdout",
     "output_type": "stream",
     "text": [
      "t-value: 57.345413249169574\n",
      "p-value: 0.0\n",
      "Reject null hypothesis: there is a significant difference between the mean length of 5-star reviews and 1-star reviews\n"
     ]
    },
    {
     "data": {
      "application/javascript": [
       "\n",
       "            setTimeout(function() {\n",
       "                var nbb_cell_id = 29;\n",
       "                var nbb_unformatted_code = \"t, p = stats.ttest_ind(review_1_length, review_5_length, equal_var=False)\\nalpha = 0.05\\nprint(\\\"t-value:\\\", t)\\nprint(\\\"p-value:\\\", p)\\nif p < alpha:\\n    print(\\n        \\\"Reject null hypothesis: there is a significant difference between the mean length of 5-star reviews and 1-star reviews\\\"\\n    )\\nelse:\\n    print(\\n        \\\"Fail to reject null hypothesis: there is no significant difference between the mean length of 5-star reviews and 1-star reviews\\\"\\n    )\";\n",
       "                var nbb_formatted_code = \"t, p = stats.ttest_ind(review_1_length, review_5_length, equal_var=False)\\nalpha = 0.05\\nprint(\\\"t-value:\\\", t)\\nprint(\\\"p-value:\\\", p)\\nif p < alpha:\\n    print(\\n        \\\"Reject null hypothesis: there is a significant difference between the mean length of 5-star reviews and 1-star reviews\\\"\\n    )\\nelse:\\n    print(\\n        \\\"Fail to reject null hypothesis: there is no significant difference between the mean length of 5-star reviews and 1-star reviews\\\"\\n    )\";\n",
       "                var nbb_cells = Jupyter.notebook.get_cells();\n",
       "                for (var i = 0; i < nbb_cells.length; ++i) {\n",
       "                    if (nbb_cells[i].input_prompt_number == nbb_cell_id) {\n",
       "                        if (nbb_cells[i].get_text() == nbb_unformatted_code) {\n",
       "                             nbb_cells[i].set_text(nbb_formatted_code);\n",
       "                        }\n",
       "                        break;\n",
       "                    }\n",
       "                }\n",
       "            }, 500);\n",
       "            "
      ],
      "text/plain": [
       "<IPython.core.display.Javascript object>"
      ]
     },
     "metadata": {},
     "output_type": "display_data"
    }
   ],
   "source": [
    "t, p = stats.ttest_ind(review_1_length, review_5_length, equal_var=False)\n",
    "alpha = 0.05\n",
    "print(\"t-value:\", t)\n",
    "print(\"p-value:\", p)\n",
    "if p < alpha:\n",
    "    print(\n",
    "        \"Reject null hypothesis: there is a significant difference between the mean length of 5-star reviews and 1-star reviews\"\n",
    "    )\n",
    "else:\n",
    "    print(\n",
    "        \"Fail to reject null hypothesis: there is no significant difference between the mean length of 5-star reviews and 1-star reviews\"\n",
    "    )"
   ]
  },
  {
   "cell_type": "markdown",
   "id": "a9f1370a",
   "metadata": {},
   "source": [
    "* Conclusion:\n",
    "The probability of observing a difference in means, assuming that the means are actually equal, is extremely low. Therefore, we can reject the null hypothesis and conclude that the mean length for 5-star rated podcasts is statistically significantly different from the mean length for 1-star rated podcasts."
   ]
  },
  {
   "cell_type": "markdown",
   "id": "f123c8e9",
   "metadata": {},
   "source": [
    "* Check what is the difference in means between the reviews text length based on 5-star and 1-star reviews?"
   ]
  },
  {
   "cell_type": "code",
   "execution_count": 30,
   "id": "17290f0d",
   "metadata": {},
   "outputs": [
    {
     "name": "stdout",
     "output_type": "stream",
     "text": [
      "Difference in mean lengths of review content: -55.98\n"
     ]
    },
    {
     "data": {
      "application/javascript": [
       "\n",
       "            setTimeout(function() {\n",
       "                var nbb_cell_id = 30;\n",
       "                var nbb_unformatted_code = \"mean_review_5_star = df_5_star[\\\"content\\\"].str.len().mean()\\nmean_review_1_star = df_1_star[\\\"content\\\"].str.len().mean()\\nmean_difference = mean_review_5_star - mean_review_1_star\\nprint(f\\\"Difference in mean lengths of review content: {mean_difference:.2f}\\\")\";\n",
       "                var nbb_formatted_code = \"mean_review_5_star = df_5_star[\\\"content\\\"].str.len().mean()\\nmean_review_1_star = df_1_star[\\\"content\\\"].str.len().mean()\\nmean_difference = mean_review_5_star - mean_review_1_star\\nprint(f\\\"Difference in mean lengths of review content: {mean_difference:.2f}\\\")\";\n",
       "                var nbb_cells = Jupyter.notebook.get_cells();\n",
       "                for (var i = 0; i < nbb_cells.length; ++i) {\n",
       "                    if (nbb_cells[i].input_prompt_number == nbb_cell_id) {\n",
       "                        if (nbb_cells[i].get_text() == nbb_unformatted_code) {\n",
       "                             nbb_cells[i].set_text(nbb_formatted_code);\n",
       "                        }\n",
       "                        break;\n",
       "                    }\n",
       "                }\n",
       "            }, 500);\n",
       "            "
      ],
      "text/plain": [
       "<IPython.core.display.Javascript object>"
      ]
     },
     "metadata": {},
     "output_type": "display_data"
    }
   ],
   "source": [
    "mean_review_5_star = df_5_star[\"content\"].str.len().mean()\n",
    "mean_review_1_star = df_1_star[\"content\"].str.len().mean()\n",
    "mean_difference = mean_review_5_star - mean_review_1_star\n",
    "print(f\"Difference in mean lengths of review content: {mean_difference:.2f}\")"
   ]
  },
  {
   "cell_type": "markdown",
   "id": "63be1f21",
   "metadata": {},
   "source": [
    "* Conclusion:<br>\n",
    "     - The negative result (-55.98) means that the mean length of 5-star reviews is shorter than the mean length of 1-star reviews. That people tend to write longer reviews when they are disappointed or not happy about product (in our case podcast)"
   ]
  },
  {
   "cell_type": "markdown",
   "id": "aa2544cd",
   "metadata": {},
   "source": [
    "* Investigating table \"Categories\":"
   ]
  },
  {
   "cell_type": "code",
   "execution_count": 31,
   "id": "4b9b7aea",
   "metadata": {
    "scrolled": true
   },
   "outputs": [
    {
     "name": "stdout",
     "output_type": "stream",
     "text": [
      "Total category quantity:  110\n",
      "***********************************\n",
      "Total podcasts quantity per category:  212372\n",
      "***********************************\n",
      "Total podcasts in categories quantity: \n",
      " society-culture          18710\n",
      "education                12628\n",
      "comedy                   12464\n",
      "religion-spirituality    12190\n",
      "business                 12058\n",
      "arts                      8953\n",
      "sports                    8388\n",
      "health-fitness            8123\n",
      "christianity              7954\n",
      "tv-film                   7714\n",
      "Name: category, dtype: int64\n"
     ]
    },
    {
     "data": {
      "application/javascript": [
       "\n",
       "            setTimeout(function() {\n",
       "                var nbb_cell_id = 31;\n",
       "                var nbb_unformatted_code = \"df_category = pd.DataFrame(\\n    pd.read_sql_query(\\n        \\\"\\\"\\\"SELECT *\\n       FROM categories\\n       \\\"\\\"\\\",\\n        con,\\n    )\\n)\\nprint(\\\"Total category quantity: \\\", df_category.category.nunique())\\nprint('***********************************')\\nprint(\\\"Total podcasts quantity per category: \\\", df_category.category.value_counts().sum())\\nprint('***********************************')\\nprint(\\\"Total podcasts in categories quantity: \\\\n\\\", df_category.category.value_counts().head(10))\";\n",
       "                var nbb_formatted_code = \"df_category = pd.DataFrame(\\n    pd.read_sql_query(\\n        \\\"\\\"\\\"SELECT *\\n       FROM categories\\n       \\\"\\\"\\\",\\n        con,\\n    )\\n)\\nprint(\\\"Total category quantity: \\\", df_category.category.nunique())\\nprint(\\\"***********************************\\\")\\nprint(\\n    \\\"Total podcasts quantity per category: \\\", df_category.category.value_counts().sum()\\n)\\nprint(\\\"***********************************\\\")\\nprint(\\n    \\\"Total podcasts in categories quantity: \\\\n\\\",\\n    df_category.category.value_counts().head(10),\\n)\";\n",
       "                var nbb_cells = Jupyter.notebook.get_cells();\n",
       "                for (var i = 0; i < nbb_cells.length; ++i) {\n",
       "                    if (nbb_cells[i].input_prompt_number == nbb_cell_id) {\n",
       "                        if (nbb_cells[i].get_text() == nbb_unformatted_code) {\n",
       "                             nbb_cells[i].set_text(nbb_formatted_code);\n",
       "                        }\n",
       "                        break;\n",
       "                    }\n",
       "                }\n",
       "            }, 500);\n",
       "            "
      ],
      "text/plain": [
       "<IPython.core.display.Javascript object>"
      ]
     },
     "metadata": {},
     "output_type": "display_data"
    }
   ],
   "source": [
    "df_category = pd.DataFrame(\n",
    "    pd.read_sql_query(\n",
    "        \"\"\"SELECT *\n",
    "       FROM categories\n",
    "       \"\"\",\n",
    "        con,\n",
    "    )\n",
    ")\n",
    "print(\"Total category quantity: \", df_category.category.nunique())\n",
    "print('***********************************')\n",
    "print(\"Total podcasts quantity per category: \", df_category.category.value_counts().sum())\n",
    "print('***********************************')\n",
    "print(\"Total podcasts in categories quantity: \\n\", df_category.category.value_counts().head(10))\n"
   ]
  },
  {
   "cell_type": "code",
   "execution_count": 32,
   "id": "1582bc91",
   "metadata": {},
   "outputs": [
    {
     "data": {
      "text/plain": [
       "(212372, 2)"
      ]
     },
     "execution_count": 32,
     "metadata": {},
     "output_type": "execute_result"
    },
    {
     "data": {
      "application/javascript": [
       "\n",
       "            setTimeout(function() {\n",
       "                var nbb_cell_id = 32;\n",
       "                var nbb_unformatted_code = \"df_category.shape\";\n",
       "                var nbb_formatted_code = \"df_category.shape\";\n",
       "                var nbb_cells = Jupyter.notebook.get_cells();\n",
       "                for (var i = 0; i < nbb_cells.length; ++i) {\n",
       "                    if (nbb_cells[i].input_prompt_number == nbb_cell_id) {\n",
       "                        if (nbb_cells[i].get_text() == nbb_unformatted_code) {\n",
       "                             nbb_cells[i].set_text(nbb_formatted_code);\n",
       "                        }\n",
       "                        break;\n",
       "                    }\n",
       "                }\n",
       "            }, 500);\n",
       "            "
      ],
      "text/plain": [
       "<IPython.core.display.Javascript object>"
      ]
     },
     "metadata": {},
     "output_type": "display_data"
    }
   ],
   "source": [
    "df_category.shape"
   ]
  },
  {
   "cell_type": "code",
   "execution_count": 33,
   "id": "775b1994",
   "metadata": {
    "scrolled": false
   },
   "outputs": [
    {
     "data": {
      "image/png": "[encoded data removed]",
      "text/plain": [
       "<Figure size 800x500 with 1 Axes>"
      ]
     },
     "metadata": {},
     "output_type": "display_data"
    },
    {
     "data": {
      "application/javascript": [
       "\n",
       "            setTimeout(function() {\n",
       "                var nbb_cell_id = 33;\n",
       "                var nbb_unformatted_code = \"plt.figure(figsize=(8, 5))\\nax = sns.countplot(x=df_category.podcast_id.value_counts(), data=df_category)\\nfor i in ax.patches:\\n    ax.annotate(\\n        f\\\"{i.get_height():.0f}\\\",\\n        (i.get_x() + i.get_width() / 2.5, i.get_height()),\\n        ha=\\\"center\\\",\\n        va=\\\"center\\\",\\n        xytext=(0, 8),\\n        textcoords=\\\"offset pixels\\\",\\n    )\\nplt.xlabel(\\\"Category Quantity per Podcast\\\")\\nplt.ylabel(\\\"Podcast Quantity\\\")\\nplt.title(\\\"Distribution of Podcasts by Category\\\")\\nplt.show()\";\n",
       "                var nbb_formatted_code = \"plt.figure(figsize=(8, 5))\\nax = sns.countplot(x=df_category.podcast_id.value_counts(), data=df_category)\\nfor i in ax.patches:\\n    ax.annotate(\\n        f\\\"{i.get_height():.0f}\\\",\\n        (i.get_x() + i.get_width() / 2.5, i.get_height()),\\n        ha=\\\"center\\\",\\n        va=\\\"center\\\",\\n        xytext=(0, 8),\\n        textcoords=\\\"offset pixels\\\",\\n    )\\nplt.xlabel(\\\"Category Quantity per Podcast\\\")\\nplt.ylabel(\\\"Podcast Quantity\\\")\\nplt.title(\\\"Distribution of Podcasts by Category\\\")\\nplt.show()\";\n",
       "                var nbb_cells = Jupyter.notebook.get_cells();\n",
       "                for (var i = 0; i < nbb_cells.length; ++i) {\n",
       "                    if (nbb_cells[i].input_prompt_number == nbb_cell_id) {\n",
       "                        if (nbb_cells[i].get_text() == nbb_unformatted_code) {\n",
       "                             nbb_cells[i].set_text(nbb_formatted_code);\n",
       "                        }\n",
       "                        break;\n",
       "                    }\n",
       "                }\n",
       "            }, 500);\n",
       "            "
      ],
      "text/plain": [
       "<IPython.core.display.Javascript object>"
      ]
     },
     "metadata": {},
     "output_type": "display_data"
    }
   ],
   "source": [
    "plt.figure(figsize=(8, 5))\n",
    "ax = sns.countplot(x=df_category.podcast_id.value_counts(), data=df_category)\n",
    "for i in ax.patches:\n",
    "    ax.annotate(\n",
    "        f\"{i.get_height():.0f}\",\n",
    "        (i.get_x() + i.get_width() / 2.5, i.get_height()),\n",
    "        ha=\"center\",\n",
    "        va=\"center\",\n",
    "        xytext=(0, 8),\n",
    "        textcoords=\"offset pixels\",\n",
    "    )\n",
    "plt.xlabel(\"Category Quantity per Podcast\")\n",
    "plt.ylabel(\"Podcast Quantity\")\n",
    "plt.title(\"Distribution of Podcasts by Category\")\n",
    "plt.show()"
   ]
  },
  {
   "cell_type": "markdown",
   "id": "1a2a7058",
   "metadata": {},
   "source": [
    "* Conclusion:\n",
    "    As we can see from the graph, podcasts may not belong to a single category, which on the one hand broadens the audience, but diminishes the sense of precise classification.  "
   ]
  },
  {
   "cell_type": "markdown",
   "id": "0d0ea53f",
   "metadata": {},
   "source": [
    "* Lets add to our tables categories:"
   ]
  },
  {
   "cell_type": "code",
   "execution_count": 34,
   "id": "eed65ee2",
   "metadata": {},
   "outputs": [
    {
     "data": {
      "application/javascript": [
       "\n",
       "            setTimeout(function() {\n",
       "                var nbb_cell_id = 34;\n",
       "                var nbb_unformatted_code = \"df = pd.merge(df_reviews, df_category, on=\\\"podcast_id\\\", how=\\\"inner\\\")\";\n",
       "                var nbb_formatted_code = \"df = pd.merge(df_reviews, df_category, on=\\\"podcast_id\\\", how=\\\"inner\\\")\";\n",
       "                var nbb_cells = Jupyter.notebook.get_cells();\n",
       "                for (var i = 0; i < nbb_cells.length; ++i) {\n",
       "                    if (nbb_cells[i].input_prompt_number == nbb_cell_id) {\n",
       "                        if (nbb_cells[i].get_text() == nbb_unformatted_code) {\n",
       "                             nbb_cells[i].set_text(nbb_formatted_code);\n",
       "                        }\n",
       "                        break;\n",
       "                    }\n",
       "                }\n",
       "            }, 500);\n",
       "            "
      ],
      "text/plain": [
       "<IPython.core.display.Javascript object>"
      ]
     },
     "metadata": {},
     "output_type": "display_data"
    }
   ],
   "source": [
    "df = pd.merge(df_reviews, df_category, on=\"podcast_id\", how=\"inner\")\n"
   ]
  },
  {
   "cell_type": "code",
   "execution_count": 35,
   "id": "605585c4",
   "metadata": {},
   "outputs": [
    {
     "data": {
      "text/html": [
       "<div>\n",
       "<style scoped>\n",
       "    .dataframe tbody tr th:only-of-type {\n",
       "        vertical-align: middle;\n",
       "    }\n",
       "\n",
       "    .dataframe tbody tr th {\n",
       "        vertical-align: top;\n",
       "    }\n",
       "\n",
       "    .dataframe thead th {\n",
       "        text-align: right;\n",
       "    }\n",
       "</style>\n",
       "<table border=\"1\" class=\"dataframe\">\n",
       "  <thead>\n",
       "    <tr style=\"text-align: right;\">\n",
       "      <th></th>\n",
       "      <th>podcast_id</th>\n",
       "      <th>title</th>\n",
       "      <th>content</th>\n",
       "      <th>rating</th>\n",
       "      <th>author_id</th>\n",
       "      <th>review_date</th>\n",
       "      <th>Year</th>\n",
       "      <th>podcast_type</th>\n",
       "      <th>category</th>\n",
       "    </tr>\n",
       "  </thead>\n",
       "  <tbody>\n",
       "    <tr>\n",
       "      <th>0</th>\n",
       "      <td>c61aa81c9b929a66f0c1db6cbe5d8548</td>\n",
       "      <td>Backstage at Tilles Center</td>\n",
       "      <td>Thanks for providing these insights.  Really enjoy the variety and depth -- please keep them coming!</td>\n",
       "      <td>5</td>\n",
       "      <td>F7E5A318989779D</td>\n",
       "      <td>2018-04-24 12:05:16</td>\n",
       "      <td>2018</td>\n",
       "      <td>single</td>\n",
       "      <td>arts, arts-performing-arts, music</td>\n",
       "    </tr>\n",
       "    <tr>\n",
       "      <th>1</th>\n",
       "      <td>c61aa81c9b929a66f0c1db6cbe5d8548</td>\n",
       "      <td>Backstage at Tilles Center</td>\n",
       "      <td>Thanks for providing these insights.  Really enjoy the variety and depth -- please keep them coming!</td>\n",
       "      <td>5</td>\n",
       "      <td>F7E5A318989779D</td>\n",
       "      <td>2018-04-24 12:05:16</td>\n",
       "      <td>2018</td>\n",
       "      <td>single</td>\n",
       "      <td>arts, arts-performing-arts, music</td>\n",
       "    </tr>\n",
       "    <tr>\n",
       "      <th>2</th>\n",
       "      <td>c61aa81c9b929a66f0c1db6cbe5d8548</td>\n",
       "      <td>Backstage at Tilles Center</td>\n",
       "      <td>Thanks for providing these insights.  Really enjoy the variety and depth -- please keep them coming!</td>\n",
       "      <td>5</td>\n",
       "      <td>F7E5A318989779D</td>\n",
       "      <td>2018-04-24 12:05:16</td>\n",
       "      <td>2018</td>\n",
       "      <td>single</td>\n",
       "      <td>arts, arts-performing-arts, music</td>\n",
       "    </tr>\n",
       "    <tr>\n",
       "      <th>3</th>\n",
       "      <td>c61aa81c9b929a66f0c1db6cbe5d8548</td>\n",
       "      <td>Backstage at Tilles Center</td>\n",
       "      <td>Super excited to see this podcast grow. So many fun topics to talk about...Shari is really engaging. Definitely subscribing and would recommend to anyone interested in the arts!!</td>\n",
       "      <td>5</td>\n",
       "      <td>F6BF5472689BD12</td>\n",
       "      <td>2018-05-09 18:14:32</td>\n",
       "      <td>2018</td>\n",
       "      <td>single</td>\n",
       "      <td>arts, arts-performing-arts, music</td>\n",
       "    </tr>\n",
       "    <tr>\n",
       "      <th>4</th>\n",
       "      <td>c61aa81c9b929a66f0c1db6cbe5d8548</td>\n",
       "      <td>Backstage at Tilles Center</td>\n",
       "      <td>Super excited to see this podcast grow. So many fun topics to talk about...Shari is really engaging. Definitely subscribing and would recommend to anyone interested in the arts!!</td>\n",
       "      <td>5</td>\n",
       "      <td>F6BF5472689BD12</td>\n",
       "      <td>2018-05-09 18:14:32</td>\n",
       "      <td>2018</td>\n",
       "      <td>single</td>\n",
       "      <td>arts, arts-performing-arts, music</td>\n",
       "    </tr>\n",
       "  </tbody>\n",
       "</table>\n",
       "</div>"
      ],
      "text/plain": [
       "                         podcast_id                       title  \\\n",
       "0  c61aa81c9b929a66f0c1db6cbe5d8548  Backstage at Tilles Center   \n",
       "1  c61aa81c9b929a66f0c1db6cbe5d8548  Backstage at Tilles Center   \n",
       "2  c61aa81c9b929a66f0c1db6cbe5d8548  Backstage at Tilles Center   \n",
       "3  c61aa81c9b929a66f0c1db6cbe5d8548  Backstage at Tilles Center   \n",
       "4  c61aa81c9b929a66f0c1db6cbe5d8548  Backstage at Tilles Center   \n",
       "\n",
       "                                                                                                                                                                              content  \\\n",
       "0                                                                                Thanks for providing these insights.  Really enjoy the variety and depth -- please keep them coming!   \n",
       "1                                                                                Thanks for providing these insights.  Really enjoy the variety and depth -- please keep them coming!   \n",
       "2                                                                                Thanks for providing these insights.  Really enjoy the variety and depth -- please keep them coming!   \n",
       "3  Super excited to see this podcast grow. So many fun topics to talk about...Shari is really engaging. Definitely subscribing and would recommend to anyone interested in the arts!!   \n",
       "4  Super excited to see this podcast grow. So many fun topics to talk about...Shari is really engaging. Definitely subscribing and would recommend to anyone interested in the arts!!   \n",
       "\n",
       "   rating        author_id         review_date  Year podcast_type  \\\n",
       "0       5  F7E5A318989779D 2018-04-24 12:05:16  2018       single   \n",
       "1       5  F7E5A318989779D 2018-04-24 12:05:16  2018       single   \n",
       "2       5  F7E5A318989779D 2018-04-24 12:05:16  2018       single   \n",
       "3       5  F6BF5472689BD12 2018-05-09 18:14:32  2018       single   \n",
       "4       5  F6BF5472689BD12 2018-05-09 18:14:32  2018       single   \n",
       "\n",
       "                            category  \n",
       "0  arts, arts-performing-arts, music  \n",
       "1  arts, arts-performing-arts, music  \n",
       "2  arts, arts-performing-arts, music  \n",
       "3  arts, arts-performing-arts, music  \n",
       "4  arts, arts-performing-arts, music  "
      ]
     },
     "execution_count": 35,
     "metadata": {},
     "output_type": "execute_result"
    },
    {
     "data": {
      "application/javascript": [
       "\n",
       "            setTimeout(function() {\n",
       "                var nbb_cell_id = 35;\n",
       "                var nbb_unformatted_code = \"df[\\\"category\\\"] = df.groupby(\\\"title\\\")[\\\"category\\\"].transform(lambda x: \\\", \\\".join(set(x)))\\ndf.head()\";\n",
       "                var nbb_formatted_code = \"df[\\\"category\\\"] = df.groupby(\\\"title\\\")[\\\"category\\\"].transform(lambda x: \\\", \\\".join(set(x)))\\ndf.head()\";\n",
       "                var nbb_cells = Jupyter.notebook.get_cells();\n",
       "                for (var i = 0; i < nbb_cells.length; ++i) {\n",
       "                    if (nbb_cells[i].input_prompt_number == nbb_cell_id) {\n",
       "                        if (nbb_cells[i].get_text() == nbb_unformatted_code) {\n",
       "                             nbb_cells[i].set_text(nbb_formatted_code);\n",
       "                        }\n",
       "                        break;\n",
       "                    }\n",
       "                }\n",
       "            }, 500);\n",
       "            "
      ],
      "text/plain": [
       "<IPython.core.display.Javascript object>"
      ]
     },
     "metadata": {},
     "output_type": "display_data"
    }
   ],
   "source": [
    "df[\"category\"] = df.groupby(\"title\")[\"category\"].transform(lambda x: \", \".join(set(x)))\n",
    "df.head()"
   ]
  },
  {
   "cell_type": "markdown",
   "id": "1c1d7719",
   "metadata": {},
   "source": [
    "* To figure what programmes are most popular (calculating most reviews written), lets get top 5 podcast titles first by review quantity:"
   ]
  },
  {
   "cell_type": "code",
   "execution_count": 36,
   "id": "d7d39707",
   "metadata": {
    "scrolled": true
   },
   "outputs": [
    {
     "data": {
      "text/html": [
       "<div>\n",
       "<style scoped>\n",
       "    .dataframe tbody tr th:only-of-type {\n",
       "        vertical-align: middle;\n",
       "    }\n",
       "\n",
       "    .dataframe tbody tr th {\n",
       "        vertical-align: top;\n",
       "    }\n",
       "\n",
       "    .dataframe thead th {\n",
       "        text-align: right;\n",
       "    }\n",
       "</style>\n",
       "<table border=\"1\" class=\"dataframe\">\n",
       "  <thead>\n",
       "    <tr style=\"text-align: right;\">\n",
       "      <th></th>\n",
       "      <th>title</th>\n",
       "      <th>review_quantity</th>\n",
       "      <th>average_rating</th>\n",
       "      <th>category</th>\n",
       "    </tr>\n",
       "  </thead>\n",
       "  <tbody>\n",
       "    <tr>\n",
       "      <th>0</th>\n",
       "      <td>Crime Junkie</td>\n",
       "      <td>33104</td>\n",
       "      <td>4.27</td>\n",
       "      <td>{true-crime}</td>\n",
       "    </tr>\n",
       "    <tr>\n",
       "      <th>1</th>\n",
       "      <td>Wow in the World</td>\n",
       "      <td>27714</td>\n",
       "      <td>4.77</td>\n",
       "      <td>{kids-family-stories-for-kids, education, kids-family}</td>\n",
       "    </tr>\n",
       "    <tr>\n",
       "      <th>2</th>\n",
       "      <td>My Favorite Murder with Karen Kilgariff and Georgia Hardstark</td>\n",
       "      <td>21350</td>\n",
       "      <td>3.61</td>\n",
       "      <td>{comedy, true-crime}</td>\n",
       "    </tr>\n",
       "    <tr>\n",
       "      <th>3</th>\n",
       "      <td>Know Your Aura with Mystic Michaela</td>\n",
       "      <td>20236</td>\n",
       "      <td>4.98</td>\n",
       "      <td>{education-self-improvement, education, spirituality, religion-spirituality}</td>\n",
       "    </tr>\n",
       "    <tr>\n",
       "      <th>4</th>\n",
       "      <td>Don't Keep Your Day Job</td>\n",
       "      <td>19728</td>\n",
       "      <td>4.94</td>\n",
       "      <td>{education-self-improvement, religion-spirituality, business, education, business-entrepreneurship, spirituality}</td>\n",
       "    </tr>\n",
       "  </tbody>\n",
       "</table>\n",
       "</div>"
      ],
      "text/plain": [
       "                                                           title  \\\n",
       "0                                                   Crime Junkie   \n",
       "1                                               Wow in the World   \n",
       "2  My Favorite Murder with Karen Kilgariff and Georgia Hardstark   \n",
       "3                            Know Your Aura with Mystic Michaela   \n",
       "4                                        Don't Keep Your Day Job   \n",
       "\n",
       "   review_quantity  average_rating  \\\n",
       "0            33104            4.27   \n",
       "1            27714            4.77   \n",
       "2            21350            3.61   \n",
       "3            20236            4.98   \n",
       "4            19728            4.94   \n",
       "\n",
       "                                                                                                            category  \n",
       "0                                                                                                       {true-crime}  \n",
       "1                                                             {kids-family-stories-for-kids, education, kids-family}  \n",
       "2                                                                                               {comedy, true-crime}  \n",
       "3                                       {education-self-improvement, education, spirituality, religion-spirituality}  \n",
       "4  {education-self-improvement, religion-spirituality, business, education, business-entrepreneurship, spirituality}  "
      ]
     },
     "execution_count": 36,
     "metadata": {},
     "output_type": "execute_result"
    },
    {
     "data": {
      "application/javascript": [
       "\n",
       "            setTimeout(function() {\n",
       "                var nbb_cell_id = 36;\n",
       "                var nbb_unformatted_code = \"title_count = df.groupby([\\\"title\\\"])[\\\"rating\\\"].count().sort_values(ascending=False)\\ntitle_avg_rating = df.groupby([\\\"title\\\"])[\\\"rating\\\"].mean()\\ntop_titles = pd.merge(title_count, title_avg_rating, on=\\\"title\\\")\\ntop_titles = top_titles.rename(\\n    columns={\\\"rating_x\\\": \\\"review_quantity\\\", \\\"rating_y\\\": \\\"average_rating\\\"}\\n)\\ntop_titles = top_titles.reset_index()\\ntop_titles[\\\"average_rating\\\"] = round(top_titles[\\\"average_rating\\\"], 2)\\ncategory_dict = df.groupby(\\\"title\\\")[\\\"category\\\"].apply(set).to_dict()\\ntop_titles[\\\"category\\\"] = top_titles[\\\"title\\\"].map(category_dict)\\ntop_titles.head(5)\";\n",
       "                var nbb_formatted_code = \"title_count = df.groupby([\\\"title\\\"])[\\\"rating\\\"].count().sort_values(ascending=False)\\ntitle_avg_rating = df.groupby([\\\"title\\\"])[\\\"rating\\\"].mean()\\ntop_titles = pd.merge(title_count, title_avg_rating, on=\\\"title\\\")\\ntop_titles = top_titles.rename(\\n    columns={\\\"rating_x\\\": \\\"review_quantity\\\", \\\"rating_y\\\": \\\"average_rating\\\"}\\n)\\ntop_titles = top_titles.reset_index()\\ntop_titles[\\\"average_rating\\\"] = round(top_titles[\\\"average_rating\\\"], 2)\\ncategory_dict = df.groupby(\\\"title\\\")[\\\"category\\\"].apply(set).to_dict()\\ntop_titles[\\\"category\\\"] = top_titles[\\\"title\\\"].map(category_dict)\\ntop_titles.head(5)\";\n",
       "                var nbb_cells = Jupyter.notebook.get_cells();\n",
       "                for (var i = 0; i < nbb_cells.length; ++i) {\n",
       "                    if (nbb_cells[i].input_prompt_number == nbb_cell_id) {\n",
       "                        if (nbb_cells[i].get_text() == nbb_unformatted_code) {\n",
       "                             nbb_cells[i].set_text(nbb_formatted_code);\n",
       "                        }\n",
       "                        break;\n",
       "                    }\n",
       "                }\n",
       "            }, 500);\n",
       "            "
      ],
      "text/plain": [
       "<IPython.core.display.Javascript object>"
      ]
     },
     "metadata": {},
     "output_type": "display_data"
    }
   ],
   "source": [
    "title_count = df.groupby([\"title\"])[\"rating\"].count().sort_values(ascending=False)\n",
    "title_avg_rating = df.groupby([\"title\"])[\"rating\"].mean()\n",
    "top_titles = pd.merge(title_count, title_avg_rating, on=\"title\")\n",
    "top_titles = top_titles.rename(\n",
    "    columns={\"rating_x\": \"review_quantity\", \"rating_y\": \"average_rating\"}\n",
    ")\n",
    "top_titles = top_titles.reset_index()\n",
    "top_titles[\"average_rating\"] = round(top_titles[\"average_rating\"], 2)\n",
    "category_dict = df.groupby(\"title\")[\"category\"].apply(set).to_dict()\n",
    "top_titles[\"category\"] = top_titles[\"title\"].map(category_dict)\n",
    "top_titles.head(5)"
   ]
  },
  {
   "cell_type": "code",
   "execution_count": 37,
   "id": "274325ab",
   "metadata": {},
   "outputs": [
    {
     "data": {
      "text/plain": [
       "[('education', 3),\n",
       " ('true-crime', 2),\n",
       " ('education-self-improvement', 2),\n",
       " ('spirituality', 2),\n",
       " ('religion-spirituality', 2),\n",
       " ('kids-family-stories-for-kids', 1),\n",
       " ('kids-family', 1),\n",
       " ('comedy', 1),\n",
       " ('business', 1),\n",
       " ('business-entrepreneurship', 1)]"
      ]
     },
     "execution_count": 37,
     "metadata": {},
     "output_type": "execute_result"
    },
    {
     "data": {
      "application/javascript": [
       "\n",
       "            setTimeout(function() {\n",
       "                var nbb_cell_id = 37;\n",
       "                var nbb_unformatted_code = \"top_categories_count = defaultdict(int)\\nfor title in top_titles.head(5)[\\\"title\\\"]:\\n    categories = category_dict[title]\\n    for category in categories:\\n        subcategories = category.split(\\\",\\\")\\n        for subcategory in subcategories:\\n            top_categories_count[subcategory.strip()] += 1\\ntop_categories_count = sorted(\\n    top_categories_count.items(), key=lambda x: x[1], reverse=True\\n)\\ntop_categories_count\";\n",
       "                var nbb_formatted_code = \"top_categories_count = defaultdict(int)\\nfor title in top_titles.head(5)[\\\"title\\\"]:\\n    categories = category_dict[title]\\n    for category in categories:\\n        subcategories = category.split(\\\",\\\")\\n        for subcategory in subcategories:\\n            top_categories_count[subcategory.strip()] += 1\\ntop_categories_count = sorted(\\n    top_categories_count.items(), key=lambda x: x[1], reverse=True\\n)\\ntop_categories_count\";\n",
       "                var nbb_cells = Jupyter.notebook.get_cells();\n",
       "                for (var i = 0; i < nbb_cells.length; ++i) {\n",
       "                    if (nbb_cells[i].input_prompt_number == nbb_cell_id) {\n",
       "                        if (nbb_cells[i].get_text() == nbb_unformatted_code) {\n",
       "                             nbb_cells[i].set_text(nbb_formatted_code);\n",
       "                        }\n",
       "                        break;\n",
       "                    }\n",
       "                }\n",
       "            }, 500);\n",
       "            "
      ],
      "text/plain": [
       "<IPython.core.display.Javascript object>"
      ]
     },
     "metadata": {},
     "output_type": "display_data"
    }
   ],
   "source": [
    "top_categories_count = defaultdict(int)\n",
    "for title in top_titles.head(5)[\"title\"]:\n",
    "    categories = category_dict[title]\n",
    "    for category in categories:\n",
    "        subcategories = category.split(\",\")\n",
    "        for subcategory in subcategories:\n",
    "            top_categories_count[subcategory.strip()] += 1\n",
    "top_categories_count = sorted(\n",
    "    top_categories_count.items(), key=lambda x: x[1], reverse=True\n",
    ")\n",
    "top_categories_count"
   ]
  },
  {
   "cell_type": "markdown",
   "id": "d5d63f67",
   "metadata": {},
   "source": [
    "* Conclusion:<br>\n",
    "To conclude what categories are most popular based on top 5 podcasts with most reviews we can conclude that education category is most popular, followed by true-crime, spirituality. "
   ]
  },
  {
   "cell_type": "markdown",
   "id": "75db9922",
   "metadata": {},
   "source": [
    "## Conclusions:"
   ]
  },
  {
   "cell_type": "markdown",
   "id": "93e0eab5",
   "metadata": {},
   "source": [
    "The main objective of this work is to show what characteristics a popular podcast should have. The period of our study is 2005-2023, the total information provided is 110024 names of the shows, for which 2043297 reviews were given. The annual distribution of the feedback shows that the highest listener activity was in the years 2019-2022. This activity coincides with the period of the COVID-19 pandemic, which may have had an impact on the popularity of this type of entertainment. The impact of crises has not been studied, but such a study would be interesting in the future.\n",
    "* The number of reviews a podcast would have to have in order to be considered popular should be examined. Most of the podcasts have 1-2 reviews, which hardly defines popularity. The chosen method of calculation shows that having 317 or more reviews would guarantee the popularity of the podcast in terms of viewer response. This number of reviews is available for 1% of all available programmes.\n",
    "* An attempt to divide the podcasts into single episode and serial episode groups, based on the available data, reveals that single episode programmes are the most popular. This raises the hypothesis whether there is a difference between the ratings of series and one-episode podcasts, and whether this average of the ratings is statistically significant. The t-test used, with 95% confidence, shows that this difference is statistically significant and reveals the advantage of single programmes over series programmes. \n",
    "* When comparing the distribution of reviews, it is observed that the vast majority of podcasts have the highest rating, following lowest rating. This raises the hypothesis whether there is a statistically significant difference in the length of reviews between these rating groups. The calculation shows with 95% confidence, that the difference is statistically significant and that the length of the review in the worst-rated podcasts is higher than in the best-rated podcasts. This could be explained by the listener trying to justify in detail his bad rating, which could also be useful for the evaluation of the show: the time spent on such a description is also valuable.\n",
    "* Finally, the most popular podcasts with the highest response rates are in educational, religious-spiritual and crime theme categories."
   ]
  }
 ],
 "metadata": {
  "kernelspec": {
   "display_name": "Python 3 (ipykernel)",
   "language": "python",
   "name": "python3"
  },
  "language_info": {
   "codemirror_mode": {
    "name": "ipython",
    "version": 3
   },
   "file_extension": ".py",
   "mimetype": "text/x-python",
   "name": "python",
   "nbconvert_exporter": "python",
   "pygments_lexer": "ipython3",
   "version": "3.9.13"
  },
  "toc": {
   "base_numbering": "",
   "nav_menu": {
    "height": "188.989px",
    "width": "401px"
   },
   "number_sections": false,
   "sideBar": true,
   "skip_h1_title": false,
   "title_cell": "Table of Contents",
   "title_sidebar": "Contents",
   "toc_cell": false,
   "toc_position": {
    "height": "calc(100% - 180px)",
    "left": "10px",
    "top": "150px",
    "width": "279.273px"
   },
   "toc_section_display": true,
   "toc_window_display": false
  }
 },
 "nbformat": 4,
 "nbformat_minor": 5
}
